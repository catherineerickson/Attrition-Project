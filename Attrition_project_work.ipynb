{
 "cells": [
  {
   "cell_type": "code",
   "execution_count": 25,
   "id": "7c0adc9b",
   "metadata": {},
   "outputs": [],
   "source": [
    "import pandas as pd\n",
    "import seaborn as sns\n",
    "import statsmodels.formula.api as smf\n",
    "import numpy as np\n",
    "import matplotlib.pyplot as plt\n",
    "import math\n",
    "import datetime as dt\n",
    "import statsmodels.formula.api as sm\n",
    "import warnings \n",
    "\n",
    "from sklearn.model_selection import train_test_split\n",
    "from imblearn.over_sampling import RandomOverSampler"
   ]
  },
  {
   "cell_type": "code",
   "execution_count": 26,
   "id": "e5bfb6e0",
   "metadata": {},
   "outputs": [
    {
     "name": "stdout",
     "output_type": "stream",
     "text": [
      "Requirement already satisfied: imblearn in /Users/allybardas/opt/anaconda3/lib/python3.9/site-packages (0.0)\r\n",
      "Requirement already satisfied: imbalanced-learn in /Users/allybardas/opt/anaconda3/lib/python3.9/site-packages (from imblearn) (0.10.1)\r\n",
      "Requirement already satisfied: numpy>=1.17.3 in /Users/allybardas/opt/anaconda3/lib/python3.9/site-packages (from imbalanced-learn->imblearn) (1.21.5)\r\n",
      "Requirement already satisfied: threadpoolctl>=2.0.0 in /Users/allybardas/opt/anaconda3/lib/python3.9/site-packages (from imbalanced-learn->imblearn) (2.2.0)\r\n",
      "Requirement already satisfied: scipy>=1.3.2 in /Users/allybardas/opt/anaconda3/lib/python3.9/site-packages (from imbalanced-learn->imblearn) (1.7.3)\r\n",
      "Requirement already satisfied: scikit-learn>=1.0.2 in /Users/allybardas/opt/anaconda3/lib/python3.9/site-packages (from imbalanced-learn->imblearn) (1.0.2)\r\n",
      "Requirement already satisfied: joblib>=1.1.1 in /Users/allybardas/opt/anaconda3/lib/python3.9/site-packages (from imbalanced-learn->imblearn) (1.2.0)\r\n"
     ]
    }
   ],
   "source": [
    "! pip install imblearn"
   ]
  },
  {
   "cell_type": "code",
   "execution_count": 27,
   "id": "ada79842",
   "metadata": {},
   "outputs": [],
   "source": [
    "from matplotlib import rcParams\n",
    "rcParams['figure.figsize'] = 8,5"
   ]
  },
  {
   "cell_type": "code",
   "execution_count": 28,
   "id": "4e0546a4",
   "metadata": {},
   "outputs": [],
   "source": [
    "warnings.filterwarnings('ignore')"
   ]
  },
  {
   "cell_type": "markdown",
   "id": "913572f2",
   "metadata": {},
   "source": [
    "# Description of Variables"
   ]
  },
  {
   "cell_type": "markdown",
   "id": "3bbec652",
   "metadata": {},
   "source": [
    "- Age: The age of the employee. (Numerical)\n",
    "- Attrition: Whether or not the employee has left the organization. (Categorical)\n",
    "- BusinessTravel: The frequency of business travel for the employee. (Categorical)\n",
    "- DailyRate: The daily rate of pay for the employee. (Numerical)\n",
    "- Department: The department the employee works in. (Categorical)\n",
    "- DistanceFromHome: The distance from home in miles for the employee. (Numerical)\n",
    "- Education: The level of education achieved by the employee. (Categorical)\n",
    "- EducationField: The field of study for the employee's education. (Categorical)\n",
    "- EmployeeCount: The total number of employees in the organization. (Numerical)\n",
    "- EmployeeNumber: A unique identifier for each employee profile. (Numerical)\n",
    "- EnvironmentSatisfaction: The employee's satisfaction with their work environment. (Categorical)\n",
    "- Gender: The gender of the employee. (Categorical)\n",
    "- HourlyRate: The hourly rate of pay for the employee. (Numerical)\n",
    "- JobInvolvement: The level of involvement required for the employee's job. (Categorical)\n",
    "- JobLevel: The job level of the employee. (Categorical)\n",
    "- JobRole: The role of the employee in the organization. (Categorical)\n",
    "- JobSatisfaction: The employee's satisfaction with their job. (Categorical)\n",
    "- MaritalStatus: The marital status of the employee. (Categorical)\n",
    "- MonthlyIncome: The monthly income of the employee. (Numerical)\n",
    "- MonthlyRate: The monthly rate of pay for the employee. (Numerical)\n",
    "- NumCompaniesWorked: The number of companies the employee has worked for. (Numerical)\n",
    "- Over18: Whether or not the employee is over 18. (Categorical)\n",
    "- OverTime: Whether or not the employee works overtime. (Categorical)\n",
    "- PercentSalaryHike: The percentage of salary hike for the employee. (Numerical)\n",
    "- PerformanceRating: The performance rating of the employee. (Categorical)\n",
    "- RelationshipSatisfaction: The employee's satisfaction with their relationships. (Categorical)\n",
    "- StandardHours: The standard hours of work for the employee. (Numerical)\n",
    "- StockOptionLevel: The stock option level of the employee. (Numerical)\n",
    "- TotalWorkingYears: The total number of years the employee has worked. (Numerical)\n",
    "- TrainingTimesLastYear: The number of times the employee was taken for training in the last year. (Numerical)\n",
    "- WorkLifeBalance: The employee's perception of their work-life balance. (Categorical)\n",
    "- YearsAtCompany: The number of years the employee has been with the company. (Numerical)\n",
    "- YearsInCurrentRole: The number of years the employee has been in their current role. (Numerical)\n",
    "- YearsSinceLastPromotion: The number of years since the employee's last promotion. (Numerical)\n",
    "- YearsWithCurrManager: The number of years the employee has been with their current manager. (Numerical)"
   ]
  },
  {
   "cell_type": "markdown",
   "id": "98269df4",
   "metadata": {},
   "source": [
    "- make people who leave the job 1 (bc there are far less of them)\n",
    "- min false neg rate to maximizew recall \n",
    "- precision recall is a good metric to optimize (most imp recall)\n",
    "- minimize ppl who will leave"
   ]
  },
  {
   "cell_type": "code",
   "execution_count": 32,
   "id": "c4f86e93",
   "metadata": {},
   "outputs": [
    {
     "ename": "FileNotFoundError",
     "evalue": "[Errno 2] No such file or directory: 'HR_Analytics.csv'",
     "output_type": "error",
     "traceback": [
      "\u001b[0;31m---------------------------------------------------------------------------\u001b[0m",
      "\u001b[0;31mFileNotFoundError\u001b[0m                         Traceback (most recent call last)",
      "Input \u001b[0;32mIn [32]\u001b[0m, in \u001b[0;36m<cell line: 1>\u001b[0;34m()\u001b[0m\n\u001b[0;32m----> 1\u001b[0m df\u001b[38;5;241m=\u001b[39m\u001b[43mpd\u001b[49m\u001b[38;5;241;43m.\u001b[39;49m\u001b[43mread_csv\u001b[49m\u001b[43m(\u001b[49m\u001b[38;5;124;43m\"\u001b[39;49m\u001b[38;5;124;43mHR_Analytics.csv\u001b[39;49m\u001b[38;5;124;43m\"\u001b[39;49m\u001b[43m)\u001b[49m\n",
      "File \u001b[0;32m~/opt/anaconda3/lib/python3.9/site-packages/pandas/util/_decorators.py:311\u001b[0m, in \u001b[0;36mdeprecate_nonkeyword_arguments.<locals>.decorate.<locals>.wrapper\u001b[0;34m(*args, **kwargs)\u001b[0m\n\u001b[1;32m    305\u001b[0m \u001b[38;5;28;01mif\u001b[39;00m \u001b[38;5;28mlen\u001b[39m(args) \u001b[38;5;241m>\u001b[39m num_allow_args:\n\u001b[1;32m    306\u001b[0m     warnings\u001b[38;5;241m.\u001b[39mwarn(\n\u001b[1;32m    307\u001b[0m         msg\u001b[38;5;241m.\u001b[39mformat(arguments\u001b[38;5;241m=\u001b[39marguments),\n\u001b[1;32m    308\u001b[0m         \u001b[38;5;167;01mFutureWarning\u001b[39;00m,\n\u001b[1;32m    309\u001b[0m         stacklevel\u001b[38;5;241m=\u001b[39mstacklevel,\n\u001b[1;32m    310\u001b[0m     )\n\u001b[0;32m--> 311\u001b[0m \u001b[38;5;28;01mreturn\u001b[39;00m \u001b[43mfunc\u001b[49m\u001b[43m(\u001b[49m\u001b[38;5;241;43m*\u001b[39;49m\u001b[43margs\u001b[49m\u001b[43m,\u001b[49m\u001b[43m \u001b[49m\u001b[38;5;241;43m*\u001b[39;49m\u001b[38;5;241;43m*\u001b[39;49m\u001b[43mkwargs\u001b[49m\u001b[43m)\u001b[49m\n",
      "File \u001b[0;32m~/opt/anaconda3/lib/python3.9/site-packages/pandas/io/parsers/readers.py:680\u001b[0m, in \u001b[0;36mread_csv\u001b[0;34m(filepath_or_buffer, sep, delimiter, header, names, index_col, usecols, squeeze, prefix, mangle_dupe_cols, dtype, engine, converters, true_values, false_values, skipinitialspace, skiprows, skipfooter, nrows, na_values, keep_default_na, na_filter, verbose, skip_blank_lines, parse_dates, infer_datetime_format, keep_date_col, date_parser, dayfirst, cache_dates, iterator, chunksize, compression, thousands, decimal, lineterminator, quotechar, quoting, doublequote, escapechar, comment, encoding, encoding_errors, dialect, error_bad_lines, warn_bad_lines, on_bad_lines, delim_whitespace, low_memory, memory_map, float_precision, storage_options)\u001b[0m\n\u001b[1;32m    665\u001b[0m kwds_defaults \u001b[38;5;241m=\u001b[39m _refine_defaults_read(\n\u001b[1;32m    666\u001b[0m     dialect,\n\u001b[1;32m    667\u001b[0m     delimiter,\n\u001b[0;32m   (...)\u001b[0m\n\u001b[1;32m    676\u001b[0m     defaults\u001b[38;5;241m=\u001b[39m{\u001b[38;5;124m\"\u001b[39m\u001b[38;5;124mdelimiter\u001b[39m\u001b[38;5;124m\"\u001b[39m: \u001b[38;5;124m\"\u001b[39m\u001b[38;5;124m,\u001b[39m\u001b[38;5;124m\"\u001b[39m},\n\u001b[1;32m    677\u001b[0m )\n\u001b[1;32m    678\u001b[0m kwds\u001b[38;5;241m.\u001b[39mupdate(kwds_defaults)\n\u001b[0;32m--> 680\u001b[0m \u001b[38;5;28;01mreturn\u001b[39;00m \u001b[43m_read\u001b[49m\u001b[43m(\u001b[49m\u001b[43mfilepath_or_buffer\u001b[49m\u001b[43m,\u001b[49m\u001b[43m \u001b[49m\u001b[43mkwds\u001b[49m\u001b[43m)\u001b[49m\n",
      "File \u001b[0;32m~/opt/anaconda3/lib/python3.9/site-packages/pandas/io/parsers/readers.py:575\u001b[0m, in \u001b[0;36m_read\u001b[0;34m(filepath_or_buffer, kwds)\u001b[0m\n\u001b[1;32m    572\u001b[0m _validate_names(kwds\u001b[38;5;241m.\u001b[39mget(\u001b[38;5;124m\"\u001b[39m\u001b[38;5;124mnames\u001b[39m\u001b[38;5;124m\"\u001b[39m, \u001b[38;5;28;01mNone\u001b[39;00m))\n\u001b[1;32m    574\u001b[0m \u001b[38;5;66;03m# Create the parser.\u001b[39;00m\n\u001b[0;32m--> 575\u001b[0m parser \u001b[38;5;241m=\u001b[39m \u001b[43mTextFileReader\u001b[49m\u001b[43m(\u001b[49m\u001b[43mfilepath_or_buffer\u001b[49m\u001b[43m,\u001b[49m\u001b[43m \u001b[49m\u001b[38;5;241;43m*\u001b[39;49m\u001b[38;5;241;43m*\u001b[39;49m\u001b[43mkwds\u001b[49m\u001b[43m)\u001b[49m\n\u001b[1;32m    577\u001b[0m \u001b[38;5;28;01mif\u001b[39;00m chunksize \u001b[38;5;129;01mor\u001b[39;00m iterator:\n\u001b[1;32m    578\u001b[0m     \u001b[38;5;28;01mreturn\u001b[39;00m parser\n",
      "File \u001b[0;32m~/opt/anaconda3/lib/python3.9/site-packages/pandas/io/parsers/readers.py:933\u001b[0m, in \u001b[0;36mTextFileReader.__init__\u001b[0;34m(self, f, engine, **kwds)\u001b[0m\n\u001b[1;32m    930\u001b[0m     \u001b[38;5;28mself\u001b[39m\u001b[38;5;241m.\u001b[39moptions[\u001b[38;5;124m\"\u001b[39m\u001b[38;5;124mhas_index_names\u001b[39m\u001b[38;5;124m\"\u001b[39m] \u001b[38;5;241m=\u001b[39m kwds[\u001b[38;5;124m\"\u001b[39m\u001b[38;5;124mhas_index_names\u001b[39m\u001b[38;5;124m\"\u001b[39m]\n\u001b[1;32m    932\u001b[0m \u001b[38;5;28mself\u001b[39m\u001b[38;5;241m.\u001b[39mhandles: IOHandles \u001b[38;5;241m|\u001b[39m \u001b[38;5;28;01mNone\u001b[39;00m \u001b[38;5;241m=\u001b[39m \u001b[38;5;28;01mNone\u001b[39;00m\n\u001b[0;32m--> 933\u001b[0m \u001b[38;5;28mself\u001b[39m\u001b[38;5;241m.\u001b[39m_engine \u001b[38;5;241m=\u001b[39m \u001b[38;5;28;43mself\u001b[39;49m\u001b[38;5;241;43m.\u001b[39;49m\u001b[43m_make_engine\u001b[49m\u001b[43m(\u001b[49m\u001b[43mf\u001b[49m\u001b[43m,\u001b[49m\u001b[43m \u001b[49m\u001b[38;5;28;43mself\u001b[39;49m\u001b[38;5;241;43m.\u001b[39;49m\u001b[43mengine\u001b[49m\u001b[43m)\u001b[49m\n",
      "File \u001b[0;32m~/opt/anaconda3/lib/python3.9/site-packages/pandas/io/parsers/readers.py:1217\u001b[0m, in \u001b[0;36mTextFileReader._make_engine\u001b[0;34m(self, f, engine)\u001b[0m\n\u001b[1;32m   1213\u001b[0m     mode \u001b[38;5;241m=\u001b[39m \u001b[38;5;124m\"\u001b[39m\u001b[38;5;124mrb\u001b[39m\u001b[38;5;124m\"\u001b[39m\n\u001b[1;32m   1214\u001b[0m \u001b[38;5;66;03m# error: No overload variant of \"get_handle\" matches argument types\u001b[39;00m\n\u001b[1;32m   1215\u001b[0m \u001b[38;5;66;03m# \"Union[str, PathLike[str], ReadCsvBuffer[bytes], ReadCsvBuffer[str]]\"\u001b[39;00m\n\u001b[1;32m   1216\u001b[0m \u001b[38;5;66;03m# , \"str\", \"bool\", \"Any\", \"Any\", \"Any\", \"Any\", \"Any\"\u001b[39;00m\n\u001b[0;32m-> 1217\u001b[0m \u001b[38;5;28mself\u001b[39m\u001b[38;5;241m.\u001b[39mhandles \u001b[38;5;241m=\u001b[39m \u001b[43mget_handle\u001b[49m\u001b[43m(\u001b[49m\u001b[43m  \u001b[49m\u001b[38;5;66;43;03m# type: ignore[call-overload]\u001b[39;49;00m\n\u001b[1;32m   1218\u001b[0m \u001b[43m    \u001b[49m\u001b[43mf\u001b[49m\u001b[43m,\u001b[49m\n\u001b[1;32m   1219\u001b[0m \u001b[43m    \u001b[49m\u001b[43mmode\u001b[49m\u001b[43m,\u001b[49m\n\u001b[1;32m   1220\u001b[0m \u001b[43m    \u001b[49m\u001b[43mencoding\u001b[49m\u001b[38;5;241;43m=\u001b[39;49m\u001b[38;5;28;43mself\u001b[39;49m\u001b[38;5;241;43m.\u001b[39;49m\u001b[43moptions\u001b[49m\u001b[38;5;241;43m.\u001b[39;49m\u001b[43mget\u001b[49m\u001b[43m(\u001b[49m\u001b[38;5;124;43m\"\u001b[39;49m\u001b[38;5;124;43mencoding\u001b[39;49m\u001b[38;5;124;43m\"\u001b[39;49m\u001b[43m,\u001b[49m\u001b[43m \u001b[49m\u001b[38;5;28;43;01mNone\u001b[39;49;00m\u001b[43m)\u001b[49m\u001b[43m,\u001b[49m\n\u001b[1;32m   1221\u001b[0m \u001b[43m    \u001b[49m\u001b[43mcompression\u001b[49m\u001b[38;5;241;43m=\u001b[39;49m\u001b[38;5;28;43mself\u001b[39;49m\u001b[38;5;241;43m.\u001b[39;49m\u001b[43moptions\u001b[49m\u001b[38;5;241;43m.\u001b[39;49m\u001b[43mget\u001b[49m\u001b[43m(\u001b[49m\u001b[38;5;124;43m\"\u001b[39;49m\u001b[38;5;124;43mcompression\u001b[39;49m\u001b[38;5;124;43m\"\u001b[39;49m\u001b[43m,\u001b[49m\u001b[43m \u001b[49m\u001b[38;5;28;43;01mNone\u001b[39;49;00m\u001b[43m)\u001b[49m\u001b[43m,\u001b[49m\n\u001b[1;32m   1222\u001b[0m \u001b[43m    \u001b[49m\u001b[43mmemory_map\u001b[49m\u001b[38;5;241;43m=\u001b[39;49m\u001b[38;5;28;43mself\u001b[39;49m\u001b[38;5;241;43m.\u001b[39;49m\u001b[43moptions\u001b[49m\u001b[38;5;241;43m.\u001b[39;49m\u001b[43mget\u001b[49m\u001b[43m(\u001b[49m\u001b[38;5;124;43m\"\u001b[39;49m\u001b[38;5;124;43mmemory_map\u001b[39;49m\u001b[38;5;124;43m\"\u001b[39;49m\u001b[43m,\u001b[49m\u001b[43m \u001b[49m\u001b[38;5;28;43;01mFalse\u001b[39;49;00m\u001b[43m)\u001b[49m\u001b[43m,\u001b[49m\n\u001b[1;32m   1223\u001b[0m \u001b[43m    \u001b[49m\u001b[43mis_text\u001b[49m\u001b[38;5;241;43m=\u001b[39;49m\u001b[43mis_text\u001b[49m\u001b[43m,\u001b[49m\n\u001b[1;32m   1224\u001b[0m \u001b[43m    \u001b[49m\u001b[43merrors\u001b[49m\u001b[38;5;241;43m=\u001b[39;49m\u001b[38;5;28;43mself\u001b[39;49m\u001b[38;5;241;43m.\u001b[39;49m\u001b[43moptions\u001b[49m\u001b[38;5;241;43m.\u001b[39;49m\u001b[43mget\u001b[49m\u001b[43m(\u001b[49m\u001b[38;5;124;43m\"\u001b[39;49m\u001b[38;5;124;43mencoding_errors\u001b[39;49m\u001b[38;5;124;43m\"\u001b[39;49m\u001b[43m,\u001b[49m\u001b[43m \u001b[49m\u001b[38;5;124;43m\"\u001b[39;49m\u001b[38;5;124;43mstrict\u001b[39;49m\u001b[38;5;124;43m\"\u001b[39;49m\u001b[43m)\u001b[49m\u001b[43m,\u001b[49m\n\u001b[1;32m   1225\u001b[0m \u001b[43m    \u001b[49m\u001b[43mstorage_options\u001b[49m\u001b[38;5;241;43m=\u001b[39;49m\u001b[38;5;28;43mself\u001b[39;49m\u001b[38;5;241;43m.\u001b[39;49m\u001b[43moptions\u001b[49m\u001b[38;5;241;43m.\u001b[39;49m\u001b[43mget\u001b[49m\u001b[43m(\u001b[49m\u001b[38;5;124;43m\"\u001b[39;49m\u001b[38;5;124;43mstorage_options\u001b[39;49m\u001b[38;5;124;43m\"\u001b[39;49m\u001b[43m,\u001b[49m\u001b[43m \u001b[49m\u001b[38;5;28;43;01mNone\u001b[39;49;00m\u001b[43m)\u001b[49m\u001b[43m,\u001b[49m\n\u001b[1;32m   1226\u001b[0m \u001b[43m\u001b[49m\u001b[43m)\u001b[49m\n\u001b[1;32m   1227\u001b[0m \u001b[38;5;28;01massert\u001b[39;00m \u001b[38;5;28mself\u001b[39m\u001b[38;5;241m.\u001b[39mhandles \u001b[38;5;129;01mis\u001b[39;00m \u001b[38;5;129;01mnot\u001b[39;00m \u001b[38;5;28;01mNone\u001b[39;00m\n\u001b[1;32m   1228\u001b[0m f \u001b[38;5;241m=\u001b[39m \u001b[38;5;28mself\u001b[39m\u001b[38;5;241m.\u001b[39mhandles\u001b[38;5;241m.\u001b[39mhandle\n",
      "File \u001b[0;32m~/opt/anaconda3/lib/python3.9/site-packages/pandas/io/common.py:789\u001b[0m, in \u001b[0;36mget_handle\u001b[0;34m(path_or_buf, mode, encoding, compression, memory_map, is_text, errors, storage_options)\u001b[0m\n\u001b[1;32m    784\u001b[0m \u001b[38;5;28;01melif\u001b[39;00m \u001b[38;5;28misinstance\u001b[39m(handle, \u001b[38;5;28mstr\u001b[39m):\n\u001b[1;32m    785\u001b[0m     \u001b[38;5;66;03m# Check whether the filename is to be opened in binary mode.\u001b[39;00m\n\u001b[1;32m    786\u001b[0m     \u001b[38;5;66;03m# Binary mode does not support 'encoding' and 'newline'.\u001b[39;00m\n\u001b[1;32m    787\u001b[0m     \u001b[38;5;28;01mif\u001b[39;00m ioargs\u001b[38;5;241m.\u001b[39mencoding \u001b[38;5;129;01mand\u001b[39;00m \u001b[38;5;124m\"\u001b[39m\u001b[38;5;124mb\u001b[39m\u001b[38;5;124m\"\u001b[39m \u001b[38;5;129;01mnot\u001b[39;00m \u001b[38;5;129;01min\u001b[39;00m ioargs\u001b[38;5;241m.\u001b[39mmode:\n\u001b[1;32m    788\u001b[0m         \u001b[38;5;66;03m# Encoding\u001b[39;00m\n\u001b[0;32m--> 789\u001b[0m         handle \u001b[38;5;241m=\u001b[39m \u001b[38;5;28;43mopen\u001b[39;49m\u001b[43m(\u001b[49m\n\u001b[1;32m    790\u001b[0m \u001b[43m            \u001b[49m\u001b[43mhandle\u001b[49m\u001b[43m,\u001b[49m\n\u001b[1;32m    791\u001b[0m \u001b[43m            \u001b[49m\u001b[43mioargs\u001b[49m\u001b[38;5;241;43m.\u001b[39;49m\u001b[43mmode\u001b[49m\u001b[43m,\u001b[49m\n\u001b[1;32m    792\u001b[0m \u001b[43m            \u001b[49m\u001b[43mencoding\u001b[49m\u001b[38;5;241;43m=\u001b[39;49m\u001b[43mioargs\u001b[49m\u001b[38;5;241;43m.\u001b[39;49m\u001b[43mencoding\u001b[49m\u001b[43m,\u001b[49m\n\u001b[1;32m    793\u001b[0m \u001b[43m            \u001b[49m\u001b[43merrors\u001b[49m\u001b[38;5;241;43m=\u001b[39;49m\u001b[43merrors\u001b[49m\u001b[43m,\u001b[49m\n\u001b[1;32m    794\u001b[0m \u001b[43m            \u001b[49m\u001b[43mnewline\u001b[49m\u001b[38;5;241;43m=\u001b[39;49m\u001b[38;5;124;43m\"\u001b[39;49m\u001b[38;5;124;43m\"\u001b[39;49m\u001b[43m,\u001b[49m\n\u001b[1;32m    795\u001b[0m \u001b[43m        \u001b[49m\u001b[43m)\u001b[49m\n\u001b[1;32m    796\u001b[0m     \u001b[38;5;28;01melse\u001b[39;00m:\n\u001b[1;32m    797\u001b[0m         \u001b[38;5;66;03m# Binary mode\u001b[39;00m\n\u001b[1;32m    798\u001b[0m         handle \u001b[38;5;241m=\u001b[39m \u001b[38;5;28mopen\u001b[39m(handle, ioargs\u001b[38;5;241m.\u001b[39mmode)\n",
      "\u001b[0;31mFileNotFoundError\u001b[0m: [Errno 2] No such file or directory: 'HR_Analytics.csv'"
     ]
    }
   ],
   "source": [
    "df=pd.read_csv(\"HR_Analytics.csv\")"
   ]
  },
  {
   "cell_type": "code",
   "execution_count": null,
   "id": "2247da1b",
   "metadata": {},
   "outputs": [],
   "source": [
    "#Load data\n",
    "df=pd.read_csv(\"HR_Analytics.csv\")\n",
    "df = pd.get_dummies(df, columns = [\"Attrition\"])\n",
    "df.head()"
   ]
  },
  {
   "cell_type": "code",
   "execution_count": null,
   "id": "578b2432",
   "metadata": {},
   "outputs": [],
   "source": [
    "#Keep the dummy column where employees leaving = 1, because there are far less of them and we want to minimize FNR and recall\n",
    "df = df.drop([\"Attrition_No\"], axis = 1)"
   ]
  },
  {
   "cell_type": "code",
   "execution_count": null,
   "id": "16f8f231",
   "metadata": {},
   "outputs": [],
   "source": [
    "#Splitting up data into train and test data - train has 70% of values and test has 30%\n",
    "from sklearn.model_selection import train_test_split\n",
    "\n",
    "train, test = train_test_split(df, test_size=0.3, random_state=25)\n",
    "\n",
    "print(f\"No. of training examples: {train.shape[0]}\")\n",
    "print(f\"No. of testing examples: {test.shape[0]}\")"
   ]
  },
  {
   "cell_type": "code",
   "execution_count": null,
   "id": "26c23099",
   "metadata": {},
   "outputs": [],
   "source": [
    "#Printing the ratio of No's and Yes's to the response variable (Attrition) for train and test to make sure they are similar\n",
    "print(train.Attrition_Yes.value_counts()[1]/train.Attrition_Yes.value_counts()[0])\n",
    "print(test.Attrition_Yes.value_counts()[1]/test.Attrition_Yes.value_counts()[0])"
   ]
  },
  {
   "cell_type": "code",
   "execution_count": null,
   "id": "22f7a1bf",
   "metadata": {},
   "outputs": [],
   "source": [
    "#Shape of data\n",
    "print(train.shape)\n",
    "print(test.shape)"
   ]
  },
  {
   "cell_type": "code",
   "execution_count": null,
   "id": "9e151b02",
   "metadata": {},
   "outputs": [],
   "source": [
    "#There are zero missing values that need to be filled in either data set\n",
    "print(train.isna().sum())\n",
    "print(test.isna().sum())"
   ]
  },
  {
   "cell_type": "code",
   "execution_count": null,
   "id": "c35b68df",
   "metadata": {},
   "outputs": [],
   "source": [
    "#All column names in dataframe\n",
    "train.columns"
   ]
  },
  {
   "cell_type": "code",
   "execution_count": 30,
   "id": "b80bfba5",
   "metadata": {},
   "outputs": [
    {
     "data": {
      "text/plain": [
       "Attrition_Yes               1.000000\n",
       "DistanceFromHome            0.065658\n",
       "NumCompaniesWorked          0.029205\n",
       "MonthlyRate                 0.001126\n",
       "PerformanceRating          -0.007033\n",
       "EmployeeNumber             -0.020580\n",
       "PercentSalaryHike          -0.021023\n",
       "TrainingTimesLastYear      -0.036240\n",
       "WorkLifeBalance            -0.039167\n",
       "Education                  -0.042102\n",
       "HourlyRate                 -0.044921\n",
       "YearsSinceLastPromotion    -0.048035\n",
       "RelationshipSatisfaction   -0.061508\n",
       "DailyRate                  -0.081930\n",
       "JobSatisfaction            -0.098817\n",
       "EnvironmentSatisfaction    -0.113397\n",
       "JobInvolvement             -0.121431\n",
       "StockOptionLevel           -0.145659\n",
       "YearsAtCompany             -0.150960\n",
       "YearsWithCurrManager       -0.153679\n",
       "MonthlyIncome              -0.164937\n",
       "JobLevel                   -0.169904\n",
       "YearsInCurrentRole         -0.178133\n",
       "Age                        -0.182642\n",
       "TotalWorkingYears          -0.185703\n",
       "dtype: float64"
      ]
     },
     "execution_count": 30,
     "metadata": {},
     "output_type": "execute_result"
    }
   ],
   "source": [
    "#Finding correlations between variables and response\n",
    "train.corrwith(train.Attrition_Yes).sort_values(ascending = False)"
   ]
  },
  {
   "cell_type": "code",
   "execution_count": 31,
   "id": "006d43bb",
   "metadata": {},
   "outputs": [
    {
     "ename": "AttributeError",
     "evalue": "'DataFrame' object has no attribute 'Over18'",
     "output_type": "error",
     "traceback": [
      "\u001b[0;31m---------------------------------------------------------------------------\u001b[0m",
      "\u001b[0;31mAttributeError\u001b[0m                            Traceback (most recent call last)",
      "Input \u001b[0;32mIn [31]\u001b[0m, in \u001b[0;36m<cell line: 1>\u001b[0;34m()\u001b[0m\n\u001b[0;32m----> 1\u001b[0m \u001b[43mtrain\u001b[49m\u001b[38;5;241;43m.\u001b[39;49m\u001b[43mOver18\u001b[49m\u001b[38;5;241m.\u001b[39mvalue_counts()\n",
      "File \u001b[0;32m~/opt/anaconda3/lib/python3.9/site-packages/pandas/core/generic.py:5575\u001b[0m, in \u001b[0;36mNDFrame.__getattr__\u001b[0;34m(self, name)\u001b[0m\n\u001b[1;32m   5568\u001b[0m \u001b[38;5;28;01mif\u001b[39;00m (\n\u001b[1;32m   5569\u001b[0m     name \u001b[38;5;129;01mnot\u001b[39;00m \u001b[38;5;129;01min\u001b[39;00m \u001b[38;5;28mself\u001b[39m\u001b[38;5;241m.\u001b[39m_internal_names_set\n\u001b[1;32m   5570\u001b[0m     \u001b[38;5;129;01mand\u001b[39;00m name \u001b[38;5;129;01mnot\u001b[39;00m \u001b[38;5;129;01min\u001b[39;00m \u001b[38;5;28mself\u001b[39m\u001b[38;5;241m.\u001b[39m_metadata\n\u001b[1;32m   5571\u001b[0m     \u001b[38;5;129;01mand\u001b[39;00m name \u001b[38;5;129;01mnot\u001b[39;00m \u001b[38;5;129;01min\u001b[39;00m \u001b[38;5;28mself\u001b[39m\u001b[38;5;241m.\u001b[39m_accessors\n\u001b[1;32m   5572\u001b[0m     \u001b[38;5;129;01mand\u001b[39;00m \u001b[38;5;28mself\u001b[39m\u001b[38;5;241m.\u001b[39m_info_axis\u001b[38;5;241m.\u001b[39m_can_hold_identifiers_and_holds_name(name)\n\u001b[1;32m   5573\u001b[0m ):\n\u001b[1;32m   5574\u001b[0m     \u001b[38;5;28;01mreturn\u001b[39;00m \u001b[38;5;28mself\u001b[39m[name]\n\u001b[0;32m-> 5575\u001b[0m \u001b[38;5;28;01mreturn\u001b[39;00m \u001b[38;5;28;43mobject\u001b[39;49m\u001b[38;5;241;43m.\u001b[39;49m\u001b[38;5;21;43m__getattribute__\u001b[39;49m\u001b[43m(\u001b[49m\u001b[38;5;28;43mself\u001b[39;49m\u001b[43m,\u001b[49m\u001b[43m \u001b[49m\u001b[43mname\u001b[49m\u001b[43m)\u001b[49m\n",
      "\u001b[0;31mAttributeError\u001b[0m: 'DataFrame' object has no attribute 'Over18'"
     ]
    }
   ],
   "source": [
    "train.Over18.value_counts()"
   ]
  },
  {
   "cell_type": "code",
   "execution_count": 14,
   "id": "dd2786b7",
   "metadata": {},
   "outputs": [
    {
     "data": {
      "text/plain": [
       "Index(['Age', 'BusinessTravel', 'DailyRate', 'Department', 'DistanceFromHome',\n",
       "       'Education', 'EducationField', 'EmployeeNumber',\n",
       "       'EnvironmentSatisfaction', 'Gender', 'HourlyRate', 'JobInvolvement',\n",
       "       'JobLevel', 'JobRole', 'JobSatisfaction', 'MaritalStatus',\n",
       "       'MonthlyIncome', 'MonthlyRate', 'NumCompaniesWorked', 'OverTime',\n",
       "       'PercentSalaryHike', 'PerformanceRating', 'RelationshipSatisfaction',\n",
       "       'StockOptionLevel', 'TotalWorkingYears', 'TrainingTimesLastYear',\n",
       "       'WorkLifeBalance', 'YearsAtCompany', 'YearsInCurrentRole',\n",
       "       'YearsSinceLastPromotion', 'YearsWithCurrManager', 'Attrition_Yes'],\n",
       "      dtype='object')"
      ]
     },
     "execution_count": 14,
     "metadata": {},
     "output_type": "execute_result"
    }
   ],
   "source": [
    "#Drop employee count, over 18 and standard hours because they are the same value for every person\n",
    "train = train.drop([\"EmployeeCount\", \"StandardHours\", \"Over18\"], axis = 1)\n",
    "test = test.drop([\"EmployeeCount\", \"StandardHours\", \"Over18\"], axis = 1)\n",
    "train.columns"
   ]
  },
  {
   "cell_type": "markdown",
   "id": "9b294547",
   "metadata": {},
   "source": [
    "# Visualizations of initial thoughts on variables that could be correlated"
   ]
  },
  {
   "cell_type": "code",
   "execution_count": null,
   "id": "aa1e9959",
   "metadata": {},
   "outputs": [],
   "source": [
    "# calculate the null count for each column\n",
    "null_count = df.isnull().sum()\n",
    "null_count.name = 'count of null' \n",
    "\n",
    "# find the datatype for each column\n",
    "dtype = df.dtypes\n",
    "dtype.name = 'data type'\n",
    "\n",
    "# describe the dataframe to get other statistics\n",
    "data_desc = df.describe(include='all', datetime_is_numeric=True)\n",
    "\n",
    "# remove count, freq, mean, std, 25%, 50%, and 75% percentiles\n",
    "data_desc = data_desc.drop(['count', 'freq', 'std', '25%', '75%', 'top'], axis=0)\n",
    "\n",
    "# transpose the dataframe to prevent the dataframe from being too wide.\n",
    "data_desc_T = data_desc.T\n",
    "\n",
    "# add the row of null count and datatype to the dataframe\n",
    "data_desc_T = pd.concat([dtype, null_count, data_desc_T], axis=1)\n",
    "\n",
    "# order the summary statistics table by datatype and count of null\n",
    "data_desc_T = data_desc_T.sort_values(['data type', 'count of null'])\n",
    "\n",
    "# show the summary statistics table\n",
    "data_desc_T"
   ]
  },
  {
   "cell_type": "code",
   "execution_count": null,
   "id": "55e6f125",
   "metadata": {},
   "outputs": [],
   "source": [
    "df = df.drop(columns = ['Over18','StandardHours','EmployeeCount'])\n",
    "# We should just drop these columns because they only have 1 unique values and contain no information"
   ]
  },
  {
   "cell_type": "code",
   "execution_count": null,
   "id": "7119b381",
   "metadata": {},
   "outputs": [],
   "source": [
    "corr_matrix = df.corr()\n",
    "sns.heatmap(corr_matrix, cmap='coolwarm')"
   ]
  },
  {
   "cell_type": "code",
   "execution_count": null,
   "id": "d92c78f9",
   "metadata": {},
   "outputs": [],
   "source": [
    "# count the number of attrition entries\n",
    "attrition_counts = df['Attrition_Yes'].value_counts()\n",
    "\n",
    "# calculate the percentage out of total entries\n",
    "attrition_percent = attrition_counts/attrition_counts.sum()\n",
    "\n",
    "# make labels for plots\n",
    "labels = ['Attrition_No-'+str((attrition_percent[0]*100).round(2))+'%', 'Attrition_Yes-'+str((attrition_percent[1]*100).round(2))+'%']"
   ]
  },
  {
   "cell_type": "code",
   "execution_count": null,
   "id": "8e5cf54e",
   "metadata": {},
   "outputs": [],
   "source": [
    "# check for class imbalance of the outcome variable\n",
    "plt.pie(attrition_counts, labels=labels, colors=['lightblue', 'orange'])\n",
    "plt.title('Class Distribution')\n",
    "plt.show()"
   ]
  },
  {
   "cell_type": "markdown",
   "id": "9c382990",
   "metadata": {},
   "source": [
    "class imbalance in the outcome variable, maybe do resampling techniques: This involves either oversampling the minority class by duplicating existing examples or undersampling the majority class by reducing the number of examples. Common resampling techniques include random oversampling, random undersampling, and Synthetic Minority Over-sampling Technique (SMOTE). Do this before training the model"
   ]
  },
  {
   "cell_type": "code",
   "execution_count": 15,
   "id": "9cbdfd5d",
   "metadata": {},
   "outputs": [
    {
     "data": {
      "image/png": "[encoded data removed]",
      "text/plain": [
       "<Figure size 432x288 with 1 Axes>"
      ]
     },
     "metadata": {
      "needs_background": "light"
     },
     "output_type": "display_data"
    }
   ],
   "source": [
    "#percentage of people who stay/leave by gender\n",
    "gender_data = train.groupby('Gender')['Attrition_Yes'].agg([(\"attrition_rate\", \"mean\"), (\"count\", \"count\")]).reset_index(drop = False)\n",
    "gender_data\n",
    "# Bar plot of gender vs. attrition\n",
    "sns.barplot(x=gender_data.index, y=gender_data.attrition_rate)\n",
    "plt.title('Attrition Rates by Gender')\n",
    "plt.xlabel('Gender')\n",
    "plt.ylabel('Attrition Rate')\n",
    "plt.ylim((0, 0.18))\n",
    "plt.show()"
   ]
  },
  {
   "cell_type": "code",
   "execution_count": 16,
   "id": "13514fbb",
   "metadata": {},
   "outputs": [
    {
     "data": {
      "image/png": "[encoded data removed]",
      "text/plain": [
       "<Figure size 432x288 with 1 Axes>"
      ]
     },
     "metadata": {
      "needs_background": "light"
     },
     "output_type": "display_data"
    }
   ],
   "source": [
    "#percentage of people who stay/leave by job satisfaction\n",
    "satisfaction_data = train.groupby('JobSatisfaction')['Attrition_Yes'].agg([(\"attrition_rate\", \"mean\"), (\"count\", \"count\")]).reset_index(drop = False)\n",
    "satisfaction_data\n",
    "# Bar plot of gender vs. attrition\n",
    "sns.barplot(x=satisfaction_data.index, y=satisfaction_data.attrition_rate)\n",
    "plt.title('Attrition Rates by Job Satisfaction')\n",
    "plt.xlabel('Job Satisfaction')\n",
    "plt.ylabel('Attrition Rate')\n",
    "plt.show()"
   ]
  },
  {
   "cell_type": "code",
   "execution_count": 17,
   "id": "c16b2e3b",
   "metadata": {},
   "outputs": [
    {
     "data": {
      "image/png": "[encoded data removed]",
      "text/plain": [
       "<Figure size 432x288 with 1 Axes>"
      ]
     },
     "metadata": {
      "needs_background": "light"
     },
     "output_type": "display_data"
    }
   ],
   "source": [
    "# Bar plot of gender vs. attrition\n",
    "sns.barplot(x=train.PerformanceRating, y=train.MonthlyIncome)\n",
    "plt.title('Average Monthly Income based on Perfomance Rating')\n",
    "plt.xlabel('Performance Rating')\n",
    "plt.ylabel('Monthly Income')\n",
    "plt.show()"
   ]
  },
  {
   "cell_type": "markdown",
   "id": "51d5bf92",
   "metadata": {},
   "source": [
    "## END OF CATHERINE'S WORK - Continue working on visualizations of variables to see what may influence attrition rate/what could be interaction terms"
   ]
  },
  {
   "cell_type": "code",
   "execution_count": null,
   "id": "8514fd7b",
   "metadata": {},
   "outputs": [],
   "source": [
    "fig, axes = plt.subplots(nrows=2, ncols=2, figsize=(15,10))\n",
    "sns.boxplot(data=df, x='Attrition_Yes', y='DailyRate', ax=axes[0, 0])\n",
    "sns.boxplot(data=df, x='Attrition_Yes', y='Age', ax=axes[0, 1])\n",
    "sns.boxplot(data=df, x='Attrition_Yes', y='MonthlyRate', ax=axes[1, 0])\n",
    "sns.boxplot(data=df, x='Attrition_Yes', y='MonthlyIncome', ax=axes[1, 1])"
   ]
  },
  {
   "cell_type": "code",
   "execution_count": null,
   "id": "051e9a55",
   "metadata": {},
   "outputs": [],
   "source": [
    "df['Count']=1"
   ]
  },
  {
   "cell_type": "code",
   "execution_count": null,
   "id": "5ea545d2",
   "metadata": {},
   "outputs": [],
   "source": [
    "#Binning MonthlyIncome\n",
    "binned_income = pd.qcut(df['MonthlyIncome'],11,retbins=True)\n",
    "#Finding percentage of fraud cases in each bin\n",
    "income_data = df.groupby(binned_income[0])['Attrition_Yes'].agg([('Attrition_Yes','mean'),('Count','count')]).reset_index(drop=False)\n",
    "income_data"
   ]
  },
  {
   "cell_type": "code",
   "execution_count": null,
   "id": "de5db557",
   "metadata": {},
   "outputs": [],
   "source": [
    "#Visualizing percentage of attrition with increasing monthly income\n",
    "sns.lineplot(x = income_data.index, y= income_data['Attrition_Yes'])\n",
    "plt.xlabel('income_bin')"
   ]
  },
  {
   "cell_type": "code",
   "execution_count": null,
   "id": "7795c8f9",
   "metadata": {},
   "outputs": [],
   "source": [
    "#Binning MonthlyIncome\n",
    "binned_age = pd.qcut(df['Age'],11,retbins=True)\n",
    "#Finding percentage of fraud cases in each bin\n",
    "age_data = df.groupby(binned_age[0])['Attrition_Yes'].agg([('Attrition_Yes','mean'),('Count','count')]).reset_index(drop=False)\n",
    "age_data"
   ]
  },
  {
   "cell_type": "code",
   "execution_count": null,
   "id": "b2417ace",
   "metadata": {},
   "outputs": [],
   "source": [
    "#Visualizing percentage of attrition with increasing monthly income\n",
    "sns.lineplot(x = age_data.index, y= age_data['Attrition_Yes'])\n",
    "plt.xlabel('age_bin')"
   ]
  },
  {
   "cell_type": "code",
   "execution_count": null,
   "id": "9bf1d3ed",
   "metadata": {},
   "outputs": [],
   "source": []
  },
  {
   "cell_type": "code",
   "execution_count": 64,
   "id": "84f9f412",
   "metadata": {},
   "outputs": [
    {
     "data": {
      "text/plain": [
       "Text(0, 0.5, 'MonthlyIncome')"
      ]
     },
     "execution_count": 64,
     "metadata": {},
     "output_type": "execute_result"
    },
    {
     "data": {
      "image/png": "[encoded data removed]",
      "text/plain": [
       "<Figure size 432x288 with 1 Axes>"
      ]
     },
     "metadata": {
      "needs_background": "light"
     },
     "output_type": "display_data"
    }
   ],
   "source": [
    "sns.scatterplot(x = train_num.Attrition, y = train_num.MonthlyIncome, color = 'orange')\n",
    "plt.xlabel('Attrition')\n",
    "plt.ylabel('MonthlyIncome')"
   ]
  },
  {
   "cell_type": "code",
   "execution_count": 55,
   "id": "cb2a6501",
   "metadata": {},
   "outputs": [
    {
     "data": {
      "text/html": [
       "<table class=\"simpletable\">\n",
       "<caption>OLS Regression Results</caption>\n",
       "<tr>\n",
       "  <th>Dep. Variable:</th>        <td>Attrition</td>    <th>  R-squared:         </th> <td>   0.037</td>\n",
       "</tr>\n",
       "<tr>\n",
       "  <th>Model:</th>                   <td>OLS</td>       <th>  Adj. R-squared:    </th> <td>   0.035</td>\n",
       "</tr>\n",
       "<tr>\n",
       "  <th>Method:</th>             <td>Least Squares</td>  <th>  F-statistic:       </th> <td>   18.76</td>\n",
       "</tr>\n",
       "<tr>\n",
       "  <th>Date:</th>             <td>Mon, 27 Feb 2023</td> <th>  Prob (F-statistic):</th> <td>6.09e-12</td>\n",
       "</tr>\n",
       "<tr>\n",
       "  <th>Time:</th>                 <td>18:33:58</td>     <th>  Log-Likelihood:    </th> <td> -587.59</td>\n",
       "</tr>\n",
       "<tr>\n",
       "  <th>No. Observations:</th>      <td>  1470</td>      <th>  AIC:               </th> <td>   1183.</td>\n",
       "</tr>\n",
       "<tr>\n",
       "  <th>Df Residuals:</th>          <td>  1466</td>      <th>  BIC:               </th> <td>   1204.</td>\n",
       "</tr>\n",
       "<tr>\n",
       "  <th>Df Model:</th>              <td>     3</td>      <th>                     </th>     <td> </td>   \n",
       "</tr>\n",
       "<tr>\n",
       "  <th>Covariance Type:</th>      <td>nonrobust</td>    <th>                     </th>     <td> </td>   \n",
       "</tr>\n",
       "</table>\n",
       "<table class=\"simpletable\">\n",
       "<tr>\n",
       "        <td></td>           <th>coef</th>     <th>std err</th>      <th>t</th>      <th>P>|t|</th>  <th>[0.025</th>    <th>0.975]</th>  \n",
       "</tr>\n",
       "<tr>\n",
       "  <th>Intercept</th>     <td>    0.4123</td> <td>    0.044</td> <td>    9.395</td> <td> 0.000</td> <td>    0.326</td> <td>    0.498</td>\n",
       "</tr>\n",
       "<tr>\n",
       "  <th>DailyRate</th>     <td>-4.987e-05</td> <td> 2.34e-05</td> <td>   -2.134</td> <td> 0.033</td> <td>-9.57e-05</td> <td>-4.03e-06</td>\n",
       "</tr>\n",
       "<tr>\n",
       "  <th>Age</th>           <td>   -0.0042</td> <td>    0.001</td> <td>   -3.565</td> <td> 0.000</td> <td>   -0.007</td> <td>   -0.002</td>\n",
       "</tr>\n",
       "<tr>\n",
       "  <th>MonthlyIncome</th> <td>-8.357e-06</td> <td> 2.31e-06</td> <td>   -3.619</td> <td> 0.000</td> <td>-1.29e-05</td> <td>-3.83e-06</td>\n",
       "</tr>\n",
       "</table>\n",
       "<table class=\"simpletable\">\n",
       "<tr>\n",
       "  <th>Omnibus:</th>       <td>415.733</td> <th>  Durbin-Watson:     </th> <td>   1.924</td> \n",
       "</tr>\n",
       "<tr>\n",
       "  <th>Prob(Omnibus):</th> <td> 0.000</td>  <th>  Jarque-Bera (JB):  </th> <td> 842.311</td> \n",
       "</tr>\n",
       "<tr>\n",
       "  <th>Skew:</th>          <td> 1.741</td>  <th>  Prob(JB):          </th> <td>1.24e-183</td>\n",
       "</tr>\n",
       "<tr>\n",
       "  <th>Kurtosis:</th>      <td> 4.274</td>  <th>  Cond. No.          </th> <td>3.75e+04</td> \n",
       "</tr>\n",
       "</table><br/><br/>Notes:<br/>[1] Standard Errors assume that the covariance matrix of the errors is correctly specified.<br/>[2] The condition number is large, 3.75e+04. This might indicate that there are<br/>strong multicollinearity or other numerical problems."
      ],
      "text/plain": [
       "<class 'statsmodels.iolib.summary.Summary'>\n",
       "\"\"\"\n",
       "                            OLS Regression Results                            \n",
       "==============================================================================\n",
       "Dep. Variable:              Attrition   R-squared:                       0.037\n",
       "Model:                            OLS   Adj. R-squared:                  0.035\n",
       "Method:                 Least Squares   F-statistic:                     18.76\n",
       "Date:                Mon, 27 Feb 2023   Prob (F-statistic):           6.09e-12\n",
       "Time:                        18:33:58   Log-Likelihood:                -587.59\n",
       "No. Observations:                1470   AIC:                             1183.\n",
       "Df Residuals:                    1466   BIC:                             1204.\n",
       "Df Model:                           3                                         \n",
       "Covariance Type:            nonrobust                                         \n",
       "=================================================================================\n",
       "                    coef    std err          t      P>|t|      [0.025      0.975]\n",
       "---------------------------------------------------------------------------------\n",
       "Intercept         0.4123      0.044      9.395      0.000       0.326       0.498\n",
       "DailyRate     -4.987e-05   2.34e-05     -2.134      0.033   -9.57e-05   -4.03e-06\n",
       "Age              -0.0042      0.001     -3.565      0.000      -0.007      -0.002\n",
       "MonthlyIncome -8.357e-06   2.31e-06     -3.619      0.000   -1.29e-05   -3.83e-06\n",
       "==============================================================================\n",
       "Omnibus:                      415.733   Durbin-Watson:                   1.924\n",
       "Prob(Omnibus):                  0.000   Jarque-Bera (JB):              842.311\n",
       "Skew:                           1.741   Prob(JB):                    1.24e-183\n",
       "Kurtosis:                       4.274   Cond. No.                     3.75e+04\n",
       "==============================================================================\n",
       "\n",
       "Notes:\n",
       "[1] Standard Errors assume that the covariance matrix of the errors is correctly specified.\n",
       "[2] The condition number is large, 3.75e+04. This might indicate that there are\n",
       "strong multicollinearity or other numerical problems.\n",
       "\"\"\""
      ]
     },
     "execution_count": 55,
     "metadata": {},
     "output_type": "execute_result"
    }
   ],
   "source": [
    "ols_object = smf.ols(formula = 'Attrition~DailyRate + Age + MonthlyIncome', data = train_num)\n",
    "model = ols_object.fit()\n",
    "model.summary()\n",
    "\n",
    "#This is wrong. it's for linear regression not logistic regression"
   ]
  },
  {
   "cell_type": "markdown",
   "id": "6c42e5fc",
   "metadata": {},
   "source": [
    "In machine learning, having a class imbalance problem can lead to biased models and poor predictive performance. If one class has significantly fewer examples than the other classes, the model may not learn enough from the minority class and may struggle to generalize well to new data.\n",
    "In our case, having only 16% of Attrition = Yes suggests that our dataset has a significant class imbalance. This can lead to issues such as too many false negatives and reduced model performance overall.\n",
    "To address this class imbalance problem, we chose to oversample the minority class, as shown in the code below."
   ]
  },
  {
   "cell_type": "code",
   "execution_count": null,
   "id": "890732dc",
   "metadata": {},
   "outputs": [],
   "source": [
    "# separate the target variable and predictor variables\n",
    "X = df.drop(columns = ['Attrition_Yes','Count'], axis=1)\n",
    "y = df['Attrition_Yes']\n",
    "\n",
    "# split the data into training and testing sets\n",
    "X_train, X_test, y_train, y_test = train_test_split(X, y, test_size=0.2, random_state=42)\n",
    "\n",
    "# perform oversampling on the training data\n",
    "ros = RandomOverSampler(random_state=42)\n",
    "X_train_resampled, y_train_resampled = ros.fit_resample(X_train, y_train)\n",
    "\n",
    "# print the number of examples in each class before and after oversampling\n",
    "print(\"Before oversampling:\")\n",
    "print(y_train.value_counts())\n",
    "print(\"After oversampling:\")\n",
    "print(y_train_resampled.value_counts())"
   ]
  },
  {
   "cell_type": "code",
   "execution_count": null,
   "id": "32eb0d36",
   "metadata": {},
   "outputs": [],
   "source": [
    "y_train_resampled.name = 'Attrition_Yes'\n",
    "train = pd.concat([X_train_resampled, pd.DataFrame(y_train_resampled)],axis =1)"
   ]
  },
  {
   "cell_type": "code",
   "execution_count": null,
   "id": "29d0d93a",
   "metadata": {},
   "outputs": [],
   "source": [
    "column_list = X_train_resampled.columns.to_list()"
   ]
  },
  {
   "cell_type": "code",
   "execution_count": null,
   "id": "60fcf514",
   "metadata": {},
   "outputs": [],
   "source": [
    "formula = 'Attrition_Yes~'+'+'.join(column_list)"
   ]
  },
  {
   "cell_type": "code",
   "execution_count": null,
   "id": "b2d9d352",
   "metadata": {},
   "outputs": [],
   "source": [
    "column_list"
   ]
  },
  {
   "cell_type": "code",
   "execution_count": null,
   "id": "b09a7f77",
   "metadata": {},
   "outputs": [],
   "source": [
    "model = smf.logit(formula=formula, data=train).fit()\n",
    "model.summary()"
   ]
  },
  {
   "cell_type": "markdown",
   "id": "8e0075fc",
   "metadata": {},
   "source": [
    "confusion matrix for this model. Call it baseline model. Then, do transformations from here using graphs for justification."
   ]
  },
  {
   "cell_type": "code",
   "execution_count": 63,
   "id": "2a4a6924",
   "metadata": {},
   "outputs": [
    {
     "data": {
      "text/plain": [
       "booking_status                          1.000000\n",
       "no_of_special_requests                  0.253070\n",
       "repeated_guest                          0.107287\n",
       "required_car_parking_space              0.086185\n",
       "no_of_previous_bookings_not_canceled    0.060179\n",
       "no_of_previous_cancellations            0.033728\n",
       "arrival_month                           0.011233\n",
       "arrival_date                           -0.010629\n",
       "no_of_children                         -0.033078\n",
       "no_of_weekend_nights                   -0.061563\n",
       "no_of_adults                           -0.086920\n",
       "no_of_week_nights                      -0.092996\n",
       "avg_price_per_room                     -0.142569\n",
       "arrival_year                           -0.179529\n",
       "lead_time                              -0.438538\n",
       "dtype: float64"
      ]
     },
     "execution_count": 63,
     "metadata": {},
     "output_type": "execute_result"
    }
   ],
   "source": [
    "train2_num.corrwith(train2_num.booking_status).sort_values(ascending = False)"
   ]
  },
  {
   "cell_type": "code",
   "execution_count": null,
   "id": "cea01cfc",
   "metadata": {},
   "outputs": [],
   "source": [
    "\n",
    "\n",
    "train_num.columns = train_num.columns.str.replace(' ', '_')\n",
    "# Attrition = 1 if left org (if yes)\n",
    "train_num['Attrition'] = train_num['Attrition'].apply(lambda x: 1 if x=='Yes' else 0) #1 if left org\n",
    "# BusinessTravel = 3 if Travel_Frequently, 2 if Travel_Rarely, 1 if no travel\n",
    "train_num['BusinessTravel'] = train_num['BusinessTravel'].apply(\n",
    "    lambda x: 3 if x=='Travel_Frequently' else 2 if x == 'Travel_Rarely' else 1)\n",
    "# Department = 3 for R&D, 2 for Sales, and 1 for HR\n",
    "train_num['Department'] = train_num['Department'].apply(\n",
    "    lambda x: 3 if x=='Research & Development' else 2 if x == 'Sales' else 1)\n",
    "# different numbers assigned to every field, 1 = Human Resources\n",
    "train_num['EducationField'] = train_num['EducationField'].apply(\n",
    "    lambda x: 6 if x=='Life Sciences' else 5 if x == 'Medical' else 4 if x == 'Marketing' \n",
    "    else 3 if x == 'Technical Degree' else 2 if x == 'Other' else 1)\n",
    "# Gender = 1 if male, 0 if female\n",
    "train_num['Gender'] = train_num['Gender'].apply(lambda x: 1 if x=='Male' else 0)\n",
    "# diff num for diff job roles, 1 = Human Resources\n",
    "train_num['JobRole'] = train_num['JobRole'].apply(\n",
    "    lambda x: 9 if x=='Sales Executive' else 8 if x == 'Research Scientist' else 7 if x == 'Laboratory Technician' \n",
    "    else 6 if x == 'Manufacturing Director' else 5 if x == 'Healthcare Representative' else 4 if x == 'Manager' \n",
    "    else 3 if x == 'Sales Representative' else 2 if x == 'Research Director' else 1)\n",
    "# MaritalStatus = 1 if Divorced\n",
    "train_num['MaritalStatus'] = train_num['MaritalStatus'].apply(\n",
    "    lambda x: 3 if x=='Married' else 2 if x == 'Single' else 1)\n",
    "# Over18 everyone is over 18\n",
    "train_num['Over18'] = train_num['Over18'].apply(lambda x: 1 if x=='Y' else 0)\n",
    "# OverTime = 1 if Yes, 0 if no\n",
    "train_num['OverTime'] = train_num['OverTime'].apply(lambda x: 1 if x=='Yes' else 0) #1 if left org\n",
    "train_num.head()"
   ]
  },
  {
   "cell_type": "markdown",
   "id": "2aea2010",
   "metadata": {},
   "source": [
    "ordinal, should not do this step^, assigning more value to different categories, would have to make dummy variables"
   ]
  },
  {
   "cell_type": "code",
   "execution_count": null,
   "id": "e6d7f49c",
   "metadata": {},
   "outputs": [],
   "source": []
  }
 ],
 "metadata": {
  "kernelspec": {
   "display_name": "Python 3 (ipykernel)",
   "language": "python",
   "name": "python3"
  },
  "language_info": {
   "codemirror_mode": {
    "name": "ipython",
    "version": 3
   },
   "file_extension": ".py",
   "mimetype": "text/x-python",
   "name": "python",
   "nbconvert_exporter": "python",
   "pygments_lexer": "ipython3",
   "version": "3.9.12"
  }
 },
 "nbformat": 4,
 "nbformat_minor": 5
}
