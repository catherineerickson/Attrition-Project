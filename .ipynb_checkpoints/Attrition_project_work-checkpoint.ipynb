{
 "cells": [
  {
   "cell_type": "code",
   "execution_count": 80,
   "id": "7c0adc9b",
   "metadata": {},
   "outputs": [],
   "source": [
    "import pandas as pd\n",
    "import seaborn as sns\n",
    "import statsmodels.formula.api as smf\n",
    "import numpy as np\n",
    "import matplotlib.pyplot as plt\n",
    "import math\n",
    "import datetime as dt\n",
    "import statsmodels.formula.api as sm"
   ]
  },
  {
   "cell_type": "markdown",
   "id": "913572f2",
   "metadata": {},
   "source": [
    "# Description of Variables"
   ]
  },
  {
   "cell_type": "markdown",
   "id": "3bbec652",
   "metadata": {},
   "source": [
    "- Age: The age of the employee. (Numerical)\n",
    "- Attrition: Whether or not the employee has left the organization. (Categorical)\n",
    "- BusinessTravel: The frequency of business travel for the employee. (Categorical)\n",
    "- DailyRate: The daily rate of pay for the employee. (Numerical)\n",
    "- Department: The department the employee works in. (Categorical)\n",
    "- DistanceFromHome: The distance from home in miles for the employee. (Numerical)\n",
    "- Education: The level of education achieved by the employee. (Categorical)\n",
    "- EducationField: The field of study for the employee's education. (Categorical)\n",
    "- EmployeeCount: The total number of employees in the organization. (Numerical)\n",
    "- EmployeeNumber: A unique identifier for each employee profile. (Numerical)\n",
    "- EnvironmentSatisfaction: The employee's satisfaction with their work environment. (Categorical)\n",
    "- Gender: The gender of the employee. (Categorical)\n",
    "- HourlyRate: The hourly rate of pay for the employee. (Numerical)\n",
    "- JobInvolvement: The level of involvement required for the employee's job. (Categorical)\n",
    "- JobLevel: The job level of the employee. (Categorical)\n",
    "- JobRole: The role of the employee in the organization. (Categorical)\n",
    "- JobSatisfaction: The employee's satisfaction with their job. (Categorical)\n",
    "- MaritalStatus: The marital status of the employee. (Categorical)\n",
    "- MonthlyIncome: The monthly income of the employee. (Numerical)\n",
    "- MonthlyRate: The monthly rate of pay for the employee. (Numerical)\n",
    "- NumCompaniesWorked: The number of companies the employee has worked for. (Numerical)\n",
    "- Over18: Whether or not the employee is over 18. (Categorical)\n",
    "- OverTime: Whether or not the employee works overtime. (Categorical)\n",
    "- PercentSalaryHike: The percentage of salary hike for the employee. (Numerical)\n",
    "- PerformanceRating: The performance rating of the employee. (Categorical)\n",
    "- RelationshipSatisfaction: The employee's satisfaction with their relationships. (Categorical)\n",
    "- StandardHours: The standard hours of work for the employee. (Numerical)\n",
    "- StockOptionLevel: The stock option level of the employee. (Numerical)\n",
    "- TotalWorkingYears: The total number of years the employee has worked. (Numerical)\n",
    "- TrainingTimesLastYear: The number of times the employee was taken for training in the last year. (Numerical)\n",
    "- WorkLifeBalance: The employee's perception of their work-life balance. (Categorical)\n",
    "- YearsAtCompany: The number of years the employee has been with the company. (Numerical)\n",
    "- YearsInCurrentRole: The number of years the employee has been in their current role. (Numerical)\n",
    "- YearsSinceLastPromotion: The number of years since the employee's last promotion. (Numerical)\n",
    "- YearsWithCurrManager: The number of years the employee has been with their current manager. (Numerical)"
   ]
  },
  {
   "cell_type": "markdown",
   "id": "98269df4",
   "metadata": {},
   "source": [
    "- make people who leave the job 1 (bc there are far less of them)\n",
    "- min false neg rate to maximizew recall \n",
    "- precision recall is a good metric to optimize (most imp recall)\n",
    "- minimize ppl who will leave"
   ]
  },
  {
   "cell_type": "code",
   "execution_count": 81,
   "id": "2247da1b",
   "metadata": {},
   "outputs": [
    {
     "data": {
      "text/html": [
       "<div>\n",
       "<style scoped>\n",
       "    .dataframe tbody tr th:only-of-type {\n",
       "        vertical-align: middle;\n",
       "    }\n",
       "\n",
       "    .dataframe tbody tr th {\n",
       "        vertical-align: top;\n",
       "    }\n",
       "\n",
       "    .dataframe thead th {\n",
       "        text-align: right;\n",
       "    }\n",
       "</style>\n",
       "<table border=\"1\" class=\"dataframe\">\n",
       "  <thead>\n",
       "    <tr style=\"text-align: right;\">\n",
       "      <th></th>\n",
       "      <th>Age</th>\n",
       "      <th>BusinessTravel</th>\n",
       "      <th>DailyRate</th>\n",
       "      <th>Department</th>\n",
       "      <th>DistanceFromHome</th>\n",
       "      <th>Education</th>\n",
       "      <th>EducationField</th>\n",
       "      <th>EmployeeCount</th>\n",
       "      <th>EmployeeNumber</th>\n",
       "      <th>EnvironmentSatisfaction</th>\n",
       "      <th>...</th>\n",
       "      <th>StockOptionLevel</th>\n",
       "      <th>TotalWorkingYears</th>\n",
       "      <th>TrainingTimesLastYear</th>\n",
       "      <th>WorkLifeBalance</th>\n",
       "      <th>YearsAtCompany</th>\n",
       "      <th>YearsInCurrentRole</th>\n",
       "      <th>YearsSinceLastPromotion</th>\n",
       "      <th>YearsWithCurrManager</th>\n",
       "      <th>Attrition_No</th>\n",
       "      <th>Attrition_Yes</th>\n",
       "    </tr>\n",
       "  </thead>\n",
       "  <tbody>\n",
       "    <tr>\n",
       "      <th>0</th>\n",
       "      <td>41</td>\n",
       "      <td>Travel_Rarely</td>\n",
       "      <td>1102</td>\n",
       "      <td>Sales</td>\n",
       "      <td>1</td>\n",
       "      <td>2</td>\n",
       "      <td>Life Sciences</td>\n",
       "      <td>1</td>\n",
       "      <td>1</td>\n",
       "      <td>2</td>\n",
       "      <td>...</td>\n",
       "      <td>0</td>\n",
       "      <td>8</td>\n",
       "      <td>0</td>\n",
       "      <td>1</td>\n",
       "      <td>6</td>\n",
       "      <td>4</td>\n",
       "      <td>0</td>\n",
       "      <td>5</td>\n",
       "      <td>0</td>\n",
       "      <td>1</td>\n",
       "    </tr>\n",
       "    <tr>\n",
       "      <th>1</th>\n",
       "      <td>49</td>\n",
       "      <td>Travel_Frequently</td>\n",
       "      <td>279</td>\n",
       "      <td>Research &amp; Development</td>\n",
       "      <td>8</td>\n",
       "      <td>1</td>\n",
       "      <td>Life Sciences</td>\n",
       "      <td>1</td>\n",
       "      <td>2</td>\n",
       "      <td>3</td>\n",
       "      <td>...</td>\n",
       "      <td>1</td>\n",
       "      <td>10</td>\n",
       "      <td>3</td>\n",
       "      <td>3</td>\n",
       "      <td>10</td>\n",
       "      <td>7</td>\n",
       "      <td>1</td>\n",
       "      <td>7</td>\n",
       "      <td>1</td>\n",
       "      <td>0</td>\n",
       "    </tr>\n",
       "    <tr>\n",
       "      <th>2</th>\n",
       "      <td>37</td>\n",
       "      <td>Travel_Rarely</td>\n",
       "      <td>1373</td>\n",
       "      <td>Research &amp; Development</td>\n",
       "      <td>2</td>\n",
       "      <td>2</td>\n",
       "      <td>Other</td>\n",
       "      <td>1</td>\n",
       "      <td>4</td>\n",
       "      <td>4</td>\n",
       "      <td>...</td>\n",
       "      <td>0</td>\n",
       "      <td>7</td>\n",
       "      <td>3</td>\n",
       "      <td>3</td>\n",
       "      <td>0</td>\n",
       "      <td>0</td>\n",
       "      <td>0</td>\n",
       "      <td>0</td>\n",
       "      <td>0</td>\n",
       "      <td>1</td>\n",
       "    </tr>\n",
       "    <tr>\n",
       "      <th>3</th>\n",
       "      <td>33</td>\n",
       "      <td>Travel_Frequently</td>\n",
       "      <td>1392</td>\n",
       "      <td>Research &amp; Development</td>\n",
       "      <td>3</td>\n",
       "      <td>4</td>\n",
       "      <td>Life Sciences</td>\n",
       "      <td>1</td>\n",
       "      <td>5</td>\n",
       "      <td>4</td>\n",
       "      <td>...</td>\n",
       "      <td>0</td>\n",
       "      <td>8</td>\n",
       "      <td>3</td>\n",
       "      <td>3</td>\n",
       "      <td>8</td>\n",
       "      <td>7</td>\n",
       "      <td>3</td>\n",
       "      <td>0</td>\n",
       "      <td>1</td>\n",
       "      <td>0</td>\n",
       "    </tr>\n",
       "    <tr>\n",
       "      <th>4</th>\n",
       "      <td>27</td>\n",
       "      <td>Travel_Rarely</td>\n",
       "      <td>591</td>\n",
       "      <td>Research &amp; Development</td>\n",
       "      <td>2</td>\n",
       "      <td>1</td>\n",
       "      <td>Medical</td>\n",
       "      <td>1</td>\n",
       "      <td>7</td>\n",
       "      <td>1</td>\n",
       "      <td>...</td>\n",
       "      <td>1</td>\n",
       "      <td>6</td>\n",
       "      <td>3</td>\n",
       "      <td>3</td>\n",
       "      <td>2</td>\n",
       "      <td>2</td>\n",
       "      <td>2</td>\n",
       "      <td>2</td>\n",
       "      <td>1</td>\n",
       "      <td>0</td>\n",
       "    </tr>\n",
       "  </tbody>\n",
       "</table>\n",
       "<p>5 rows × 36 columns</p>\n",
       "</div>"
      ],
      "text/plain": [
       "   Age     BusinessTravel  DailyRate              Department  \\\n",
       "0   41      Travel_Rarely       1102                   Sales   \n",
       "1   49  Travel_Frequently        279  Research & Development   \n",
       "2   37      Travel_Rarely       1373  Research & Development   \n",
       "3   33  Travel_Frequently       1392  Research & Development   \n",
       "4   27      Travel_Rarely        591  Research & Development   \n",
       "\n",
       "   DistanceFromHome  Education EducationField  EmployeeCount  EmployeeNumber  \\\n",
       "0                 1          2  Life Sciences              1               1   \n",
       "1                 8          1  Life Sciences              1               2   \n",
       "2                 2          2          Other              1               4   \n",
       "3                 3          4  Life Sciences              1               5   \n",
       "4                 2          1        Medical              1               7   \n",
       "\n",
       "   EnvironmentSatisfaction  ... StockOptionLevel  TotalWorkingYears  \\\n",
       "0                        2  ...                0                  8   \n",
       "1                        3  ...                1                 10   \n",
       "2                        4  ...                0                  7   \n",
       "3                        4  ...                0                  8   \n",
       "4                        1  ...                1                  6   \n",
       "\n",
       "   TrainingTimesLastYear  WorkLifeBalance YearsAtCompany  YearsInCurrentRole  \\\n",
       "0                      0                1              6                   4   \n",
       "1                      3                3             10                   7   \n",
       "2                      3                3              0                   0   \n",
       "3                      3                3              8                   7   \n",
       "4                      3                3              2                   2   \n",
       "\n",
       "  YearsSinceLastPromotion  YearsWithCurrManager  Attrition_No  Attrition_Yes  \n",
       "0                       0                     5             0              1  \n",
       "1                       1                     7             1              0  \n",
       "2                       0                     0             0              1  \n",
       "3                       3                     0             1              0  \n",
       "4                       2                     2             1              0  \n",
       "\n",
       "[5 rows x 36 columns]"
      ]
     },
     "execution_count": 81,
     "metadata": {},
     "output_type": "execute_result"
    }
   ],
   "source": [
    "#Load data\n",
    "df=pd.read_csv(\"data/HR_Analytics.csv\")\n",
    "df = pd.get_dummies(df, columns = [\"Attrition\"])\n",
    "df.head()"
   ]
  },
  {
   "cell_type": "code",
   "execution_count": 82,
   "id": "578b2432",
   "metadata": {},
   "outputs": [],
   "source": [
    "#Keep the dummy column where employees leaving = 1, because there are far less of them and we want to minimize FNR and recall\n",
    "df = df.drop([\"Attrition_No\"], axis = 1)"
   ]
  },
  {
   "cell_type": "code",
   "execution_count": 83,
   "id": "16f8f231",
   "metadata": {},
   "outputs": [
    {
     "name": "stdout",
     "output_type": "stream",
     "text": [
      "No. of training examples: 1029\n",
      "No. of testing examples: 441\n"
     ]
    }
   ],
   "source": [
    "#Splitting up data into train and test data - train has 70% of values and test has 30%\n",
    "from sklearn.model_selection import train_test_split\n",
    "\n",
    "train, test = train_test_split(df, test_size=0.3, random_state=25)\n",
    "\n",
    "print(f\"No. of training examples: {train.shape[0]}\")\n",
    "print(f\"No. of testing examples: {test.shape[0]}\")"
   ]
  },
  {
   "cell_type": "code",
   "execution_count": 84,
   "id": "26c23099",
   "metadata": {},
   "outputs": [
    {
     "name": "stdout",
     "output_type": "stream",
     "text": [
      "0.1937354988399072\n",
      "0.18867924528301888\n"
     ]
    }
   ],
   "source": [
    "#Printing the ratio of No's and Yes's to the response variable (Attrition) for train and test to make sure they are similar\n",
    "print(train.Attrition_Yes.value_counts()[1]/train.Attrition_Yes.value_counts()[0])\n",
    "print(test.Attrition_Yes.value_counts()[1]/test.Attrition_Yes.value_counts()[0])"
   ]
  },
  {
   "cell_type": "code",
   "execution_count": 85,
   "id": "22f7a1bf",
   "metadata": {},
   "outputs": [
    {
     "name": "stdout",
     "output_type": "stream",
     "text": [
      "(1029, 35)\n",
      "(441, 35)\n"
     ]
    }
   ],
   "source": [
    "#Shape of data\n",
    "print(train.shape)\n",
    "print(test.shape)"
   ]
  },
  {
   "cell_type": "code",
   "execution_count": 86,
   "id": "9e151b02",
   "metadata": {},
   "outputs": [
    {
     "name": "stdout",
     "output_type": "stream",
     "text": [
      "Age                         0\n",
      "BusinessTravel              0\n",
      "DailyRate                   0\n",
      "Department                  0\n",
      "DistanceFromHome            0\n",
      "Education                   0\n",
      "EducationField              0\n",
      "EmployeeCount               0\n",
      "EmployeeNumber              0\n",
      "EnvironmentSatisfaction     0\n",
      "Gender                      0\n",
      "HourlyRate                  0\n",
      "JobInvolvement              0\n",
      "JobLevel                    0\n",
      "JobRole                     0\n",
      "JobSatisfaction             0\n",
      "MaritalStatus               0\n",
      "MonthlyIncome               0\n",
      "MonthlyRate                 0\n",
      "NumCompaniesWorked          0\n",
      "Over18                      0\n",
      "OverTime                    0\n",
      "PercentSalaryHike           0\n",
      "PerformanceRating           0\n",
      "RelationshipSatisfaction    0\n",
      "StandardHours               0\n",
      "StockOptionLevel            0\n",
      "TotalWorkingYears           0\n",
      "TrainingTimesLastYear       0\n",
      "WorkLifeBalance             0\n",
      "YearsAtCompany              0\n",
      "YearsInCurrentRole          0\n",
      "YearsSinceLastPromotion     0\n",
      "YearsWithCurrManager        0\n",
      "Attrition_Yes               0\n",
      "dtype: int64\n",
      "Age                         0\n",
      "BusinessTravel              0\n",
      "DailyRate                   0\n",
      "Department                  0\n",
      "DistanceFromHome            0\n",
      "Education                   0\n",
      "EducationField              0\n",
      "EmployeeCount               0\n",
      "EmployeeNumber              0\n",
      "EnvironmentSatisfaction     0\n",
      "Gender                      0\n",
      "HourlyRate                  0\n",
      "JobInvolvement              0\n",
      "JobLevel                    0\n",
      "JobRole                     0\n",
      "JobSatisfaction             0\n",
      "MaritalStatus               0\n",
      "MonthlyIncome               0\n",
      "MonthlyRate                 0\n",
      "NumCompaniesWorked          0\n",
      "Over18                      0\n",
      "OverTime                    0\n",
      "PercentSalaryHike           0\n",
      "PerformanceRating           0\n",
      "RelationshipSatisfaction    0\n",
      "StandardHours               0\n",
      "StockOptionLevel            0\n",
      "TotalWorkingYears           0\n",
      "TrainingTimesLastYear       0\n",
      "WorkLifeBalance             0\n",
      "YearsAtCompany              0\n",
      "YearsInCurrentRole          0\n",
      "YearsSinceLastPromotion     0\n",
      "YearsWithCurrManager        0\n",
      "Attrition_Yes               0\n",
      "dtype: int64\n"
     ]
    }
   ],
   "source": [
    "#There are zero missing values that need to be filled in either data set\n",
    "print(train.isna().sum())\n",
    "print(test.isna().sum())"
   ]
  },
  {
   "cell_type": "code",
   "execution_count": 87,
   "id": "c35b68df",
   "metadata": {},
   "outputs": [
    {
     "data": {
      "text/plain": [
       "Index(['Age', 'BusinessTravel', 'DailyRate', 'Department', 'DistanceFromHome',\n",
       "       'Education', 'EducationField', 'EmployeeCount', 'EmployeeNumber',\n",
       "       'EnvironmentSatisfaction', 'Gender', 'HourlyRate', 'JobInvolvement',\n",
       "       'JobLevel', 'JobRole', 'JobSatisfaction', 'MaritalStatus',\n",
       "       'MonthlyIncome', 'MonthlyRate', 'NumCompaniesWorked', 'Over18',\n",
       "       'OverTime', 'PercentSalaryHike', 'PerformanceRating',\n",
       "       'RelationshipSatisfaction', 'StandardHours', 'StockOptionLevel',\n",
       "       'TotalWorkingYears', 'TrainingTimesLastYear', 'WorkLifeBalance',\n",
       "       'YearsAtCompany', 'YearsInCurrentRole', 'YearsSinceLastPromotion',\n",
       "       'YearsWithCurrManager', 'Attrition_Yes'],\n",
       "      dtype='object')"
      ]
     },
     "execution_count": 87,
     "metadata": {},
     "output_type": "execute_result"
    }
   ],
   "source": [
    "#All column names in dataframe\n",
    "train.columns"
   ]
  },
  {
   "cell_type": "code",
   "execution_count": 88,
   "id": "b80bfba5",
   "metadata": {},
   "outputs": [
    {
     "data": {
      "text/plain": [
       "Attrition_Yes               1.000000\n",
       "DistanceFromHome            0.065658\n",
       "NumCompaniesWorked          0.029205\n",
       "MonthlyRate                 0.001126\n",
       "PerformanceRating          -0.007033\n",
       "EmployeeNumber             -0.020580\n",
       "PercentSalaryHike          -0.021023\n",
       "TrainingTimesLastYear      -0.036240\n",
       "WorkLifeBalance            -0.039167\n",
       "Education                  -0.042102\n",
       "HourlyRate                 -0.044921\n",
       "YearsSinceLastPromotion    -0.048035\n",
       "RelationshipSatisfaction   -0.061508\n",
       "DailyRate                  -0.081930\n",
       "JobSatisfaction            -0.098817\n",
       "EnvironmentSatisfaction    -0.113397\n",
       "JobInvolvement             -0.121431\n",
       "StockOptionLevel           -0.145659\n",
       "YearsAtCompany             -0.150960\n",
       "YearsWithCurrManager       -0.153679\n",
       "MonthlyIncome              -0.164937\n",
       "JobLevel                   -0.169904\n",
       "YearsInCurrentRole         -0.178133\n",
       "Age                        -0.182642\n",
       "TotalWorkingYears          -0.185703\n",
       "EmployeeCount                    NaN\n",
       "StandardHours                    NaN\n",
       "dtype: float64"
      ]
     },
     "execution_count": 88,
     "metadata": {},
     "output_type": "execute_result"
    }
   ],
   "source": [
    "#Finding correlations between variables and response\n",
    "train.corrwith(train.Attrition_Yes).sort_values(ascending = False)"
   ]
  },
  {
   "cell_type": "code",
   "execution_count": 89,
   "id": "006d43bb",
   "metadata": {},
   "outputs": [
    {
     "data": {
      "text/plain": [
       "Y    1029\n",
       "Name: Over18, dtype: int64"
      ]
     },
     "execution_count": 89,
     "metadata": {},
     "output_type": "execute_result"
    }
   ],
   "source": [
    "train.Over18.value_counts()"
   ]
  },
  {
   "cell_type": "code",
   "execution_count": 90,
   "id": "dd2786b7",
   "metadata": {},
   "outputs": [
    {
     "data": {
      "text/plain": [
       "Index(['Age', 'BusinessTravel', 'DailyRate', 'Department', 'DistanceFromHome',\n",
       "       'Education', 'EducationField', 'EmployeeNumber',\n",
       "       'EnvironmentSatisfaction', 'Gender', 'HourlyRate', 'JobInvolvement',\n",
       "       'JobLevel', 'JobRole', 'JobSatisfaction', 'MaritalStatus',\n",
       "       'MonthlyIncome', 'MonthlyRate', 'NumCompaniesWorked', 'OverTime',\n",
       "       'PercentSalaryHike', 'PerformanceRating', 'RelationshipSatisfaction',\n",
       "       'StockOptionLevel', 'TotalWorkingYears', 'TrainingTimesLastYear',\n",
       "       'WorkLifeBalance', 'YearsAtCompany', 'YearsInCurrentRole',\n",
       "       'YearsSinceLastPromotion', 'YearsWithCurrManager', 'Attrition_Yes'],\n",
       "      dtype='object')"
      ]
     },
     "execution_count": 90,
     "metadata": {},
     "output_type": "execute_result"
    }
   ],
   "source": [
    "#Drop employee count, over 18 and standard hours because they are the same value for every person\n",
    "train = train.drop([\"EmployeeCount\", \"StandardHours\", \"Over18\"], axis = 1)\n",
    "test = test.drop([\"EmployeeCount\", \"StandardHours\", \"Over18\"], axis = 1)\n",
    "train.columns"
   ]
  },
  {
   "cell_type": "markdown",
   "id": "9b294547",
   "metadata": {},
   "source": [
    "# Visualizations of initial thoughts on variables that could be correlated"
   ]
  },
  {
   "cell_type": "code",
   "execution_count": 95,
   "id": "9cbdfd5d",
   "metadata": {},
   "outputs": [
    {
     "data": {
      "image/png": "[encoded data removed]",
      "text/plain": [
       "<Figure size 432x288 with 1 Axes>"
      ]
     },
     "metadata": {
      "needs_background": "light"
     },
     "output_type": "display_data"
    }
   ],
   "source": [
    "#percentage of people who stay/leave by gender\n",
    "gender_data = train.groupby('Gender')['Attrition_Yes'].agg([(\"attrition_rate\", \"mean\"), (\"count\", \"count\")]).reset_index(drop = False)\n",
    "gender_data\n",
    "# Bar plot of gender vs. attrition\n",
    "sns.barplot(x=gender_data.index, y=gender_data.attrition_rate)\n",
    "plt.title('Attrition Rates by Gender')\n",
    "plt.xlabel('Gender')\n",
    "plt.ylabel('Attrition Rate')\n",
    "plt.ylim((0, 0.18))\n",
    "plt.show()"
   ]
  },
  {
   "cell_type": "code",
   "execution_count": 97,
   "id": "13514fbb",
   "metadata": {},
   "outputs": [
    {
     "data": {
      "image/png": "[encoded data removed]",
      "text/plain": [
       "<Figure size 432x288 with 1 Axes>"
      ]
     },
     "metadata": {
      "needs_background": "light"
     },
     "output_type": "display_data"
    }
   ],
   "source": [
    "#percentage of people who stay/leave by job satisfaction\n",
    "satisfaction_data = train.groupby('JobSatisfaction')['Attrition_Yes'].agg([(\"attrition_rate\", \"mean\"), (\"count\", \"count\")]).reset_index(drop = False)\n",
    "satisfaction_data\n",
    "# Bar plot of gender vs. attrition\n",
    "sns.barplot(x=satisfaction_data.index, y=satisfaction_data.attrition_rate)\n",
    "plt.title('Attrition Rates by Job Satisfaction')\n",
    "plt.xlabel('Job Satisfaction')\n",
    "plt.ylabel('Attrition Rate')\n",
    "plt.show()"
   ]
  },
  {
   "cell_type": "code",
   "execution_count": 100,
   "id": "c16b2e3b",
   "metadata": {},
   "outputs": [
    {
     "data": {
      "image/png": "[encoded data removed]",
      "text/plain": [
       "<Figure size 432x288 with 1 Axes>"
      ]
     },
     "metadata": {
      "needs_background": "light"
     },
     "output_type": "display_data"
    }
   ],
   "source": [
    "# Bar plot of gender vs. attrition\n",
    "sns.barplot(x=train.PerformanceRating, y=train.MonthlyIncome)\n",
    "plt.title('Average Monthly Income based on Perfomance Rating')\n",
    "plt.xlabel('Performance Rating')\n",
    "plt.ylabel('Monthly Income')\n",
    "plt.show()"
   ]
  },
  {
   "cell_type": "markdown",
   "id": "51d5bf92",
   "metadata": {},
   "source": [
    "## END OF CATHERINE'S WORK - Continue working on visualizations of variables to see what may influence attrition rate/what could be interaction terms"
   ]
  },
  {
   "cell_type": "code",
   "execution_count": 39,
   "id": "d6178466",
   "metadata": {},
   "outputs": [
    {
     "data": {
      "text/html": [
       "<div>\n",
       "<style scoped>\n",
       "    .dataframe tbody tr th:only-of-type {\n",
       "        vertical-align: middle;\n",
       "    }\n",
       "\n",
       "    .dataframe tbody tr th {\n",
       "        vertical-align: top;\n",
       "    }\n",
       "\n",
       "    .dataframe thead th {\n",
       "        text-align: right;\n",
       "    }\n",
       "</style>\n",
       "<table border=\"1\" class=\"dataframe\">\n",
       "  <thead>\n",
       "    <tr style=\"text-align: right;\">\n",
       "      <th></th>\n",
       "      <th>Age</th>\n",
       "      <th>Attrition</th>\n",
       "      <th>BusinessTravel</th>\n",
       "      <th>DailyRate</th>\n",
       "      <th>Department</th>\n",
       "      <th>DistanceFromHome</th>\n",
       "      <th>Education</th>\n",
       "      <th>EducationField</th>\n",
       "      <th>EmployeeCount</th>\n",
       "      <th>EmployeeNumber</th>\n",
       "      <th>...</th>\n",
       "      <th>RelationshipSatisfaction</th>\n",
       "      <th>StandardHours</th>\n",
       "      <th>StockOptionLevel</th>\n",
       "      <th>TotalWorkingYears</th>\n",
       "      <th>TrainingTimesLastYear</th>\n",
       "      <th>WorkLifeBalance</th>\n",
       "      <th>YearsAtCompany</th>\n",
       "      <th>YearsInCurrentRole</th>\n",
       "      <th>YearsSinceLastPromotion</th>\n",
       "      <th>YearsWithCurrManager</th>\n",
       "    </tr>\n",
       "  </thead>\n",
       "  <tbody>\n",
       "    <tr>\n",
       "      <th>0</th>\n",
       "      <td>41</td>\n",
       "      <td>1</td>\n",
       "      <td>2</td>\n",
       "      <td>1102</td>\n",
       "      <td>2</td>\n",
       "      <td>1</td>\n",
       "      <td>2</td>\n",
       "      <td>6</td>\n",
       "      <td>1</td>\n",
       "      <td>1</td>\n",
       "      <td>...</td>\n",
       "      <td>1</td>\n",
       "      <td>80</td>\n",
       "      <td>0</td>\n",
       "      <td>8</td>\n",
       "      <td>0</td>\n",
       "      <td>1</td>\n",
       "      <td>6</td>\n",
       "      <td>4</td>\n",
       "      <td>0</td>\n",
       "      <td>5</td>\n",
       "    </tr>\n",
       "    <tr>\n",
       "      <th>1</th>\n",
       "      <td>49</td>\n",
       "      <td>0</td>\n",
       "      <td>3</td>\n",
       "      <td>279</td>\n",
       "      <td>3</td>\n",
       "      <td>8</td>\n",
       "      <td>1</td>\n",
       "      <td>6</td>\n",
       "      <td>1</td>\n",
       "      <td>2</td>\n",
       "      <td>...</td>\n",
       "      <td>4</td>\n",
       "      <td>80</td>\n",
       "      <td>1</td>\n",
       "      <td>10</td>\n",
       "      <td>3</td>\n",
       "      <td>3</td>\n",
       "      <td>10</td>\n",
       "      <td>7</td>\n",
       "      <td>1</td>\n",
       "      <td>7</td>\n",
       "    </tr>\n",
       "    <tr>\n",
       "      <th>2</th>\n",
       "      <td>37</td>\n",
       "      <td>1</td>\n",
       "      <td>2</td>\n",
       "      <td>1373</td>\n",
       "      <td>3</td>\n",
       "      <td>2</td>\n",
       "      <td>2</td>\n",
       "      <td>2</td>\n",
       "      <td>1</td>\n",
       "      <td>4</td>\n",
       "      <td>...</td>\n",
       "      <td>2</td>\n",
       "      <td>80</td>\n",
       "      <td>0</td>\n",
       "      <td>7</td>\n",
       "      <td>3</td>\n",
       "      <td>3</td>\n",
       "      <td>0</td>\n",
       "      <td>0</td>\n",
       "      <td>0</td>\n",
       "      <td>0</td>\n",
       "    </tr>\n",
       "    <tr>\n",
       "      <th>3</th>\n",
       "      <td>33</td>\n",
       "      <td>0</td>\n",
       "      <td>3</td>\n",
       "      <td>1392</td>\n",
       "      <td>3</td>\n",
       "      <td>3</td>\n",
       "      <td>4</td>\n",
       "      <td>6</td>\n",
       "      <td>1</td>\n",
       "      <td>5</td>\n",
       "      <td>...</td>\n",
       "      <td>3</td>\n",
       "      <td>80</td>\n",
       "      <td>0</td>\n",
       "      <td>8</td>\n",
       "      <td>3</td>\n",
       "      <td>3</td>\n",
       "      <td>8</td>\n",
       "      <td>7</td>\n",
       "      <td>3</td>\n",
       "      <td>0</td>\n",
       "    </tr>\n",
       "    <tr>\n",
       "      <th>4</th>\n",
       "      <td>27</td>\n",
       "      <td>0</td>\n",
       "      <td>2</td>\n",
       "      <td>591</td>\n",
       "      <td>3</td>\n",
       "      <td>2</td>\n",
       "      <td>1</td>\n",
       "      <td>5</td>\n",
       "      <td>1</td>\n",
       "      <td>7</td>\n",
       "      <td>...</td>\n",
       "      <td>4</td>\n",
       "      <td>80</td>\n",
       "      <td>1</td>\n",
       "      <td>6</td>\n",
       "      <td>3</td>\n",
       "      <td>3</td>\n",
       "      <td>2</td>\n",
       "      <td>2</td>\n",
       "      <td>2</td>\n",
       "      <td>2</td>\n",
       "    </tr>\n",
       "  </tbody>\n",
       "</table>\n",
       "<p>5 rows × 35 columns</p>\n",
       "</div>"
      ],
      "text/plain": [
       "   Age  Attrition  BusinessTravel  DailyRate  Department  DistanceFromHome  \\\n",
       "0   41          1               2       1102           2                 1   \n",
       "1   49          0               3        279           3                 8   \n",
       "2   37          1               2       1373           3                 2   \n",
       "3   33          0               3       1392           3                 3   \n",
       "4   27          0               2        591           3                 2   \n",
       "\n",
       "   Education  EducationField  EmployeeCount  EmployeeNumber  ...  \\\n",
       "0          2               6              1               1  ...   \n",
       "1          1               6              1               2  ...   \n",
       "2          2               2              1               4  ...   \n",
       "3          4               6              1               5  ...   \n",
       "4          1               5              1               7  ...   \n",
       "\n",
       "   RelationshipSatisfaction  StandardHours  StockOptionLevel  \\\n",
       "0                         1             80                 0   \n",
       "1                         4             80                 1   \n",
       "2                         2             80                 0   \n",
       "3                         3             80                 0   \n",
       "4                         4             80                 1   \n",
       "\n",
       "   TotalWorkingYears  TrainingTimesLastYear  WorkLifeBalance  YearsAtCompany  \\\n",
       "0                  8                      0                1               6   \n",
       "1                 10                      3                3              10   \n",
       "2                  7                      3                3               0   \n",
       "3                  8                      3                3               8   \n",
       "4                  6                      3                3               2   \n",
       "\n",
       "   YearsInCurrentRole  YearsSinceLastPromotion  YearsWithCurrManager  \n",
       "0                   4                        0                     5  \n",
       "1                   7                        1                     7  \n",
       "2                   0                        0                     0  \n",
       "3                   7                        3                     0  \n",
       "4                   2                        2                     2  \n",
       "\n",
       "[5 rows x 35 columns]"
      ]
     },
     "execution_count": 39,
     "metadata": {},
     "output_type": "execute_result"
    }
   ],
   "source": [
    "\n",
    "\n",
    "train_num.columns = train_num.columns.str.replace(' ', '_')\n",
    "# Attrition = 1 if left org (if yes)\n",
    "train_num['Attrition'] = train_num['Attrition'].apply(lambda x: 1 if x=='Yes' else 0) #1 if left org\n",
    "# BusinessTravel = 3 if Travel_Frequently, 2 if Travel_Rarely, 1 if no travel\n",
    "train_num['BusinessTravel'] = train_num['BusinessTravel'].apply(\n",
    "    lambda x: 3 if x=='Travel_Frequently' else 2 if x == 'Travel_Rarely' else 1)\n",
    "# Department = 3 for R&D, 2 for Sales, and 1 for HR\n",
    "train_num['Department'] = train_num['Department'].apply(\n",
    "    lambda x: 3 if x=='Research & Development' else 2 if x == 'Sales' else 1)\n",
    "# different numbers assigned to every field, 1 = Human Resources\n",
    "train_num['EducationField'] = train_num['EducationField'].apply(\n",
    "    lambda x: 6 if x=='Life Sciences' else 5 if x == 'Medical' else 4 if x == 'Marketing' \n",
    "    else 3 if x == 'Technical Degree' else 2 if x == 'Other' else 1)\n",
    "# Gender = 1 if male, 0 if female\n",
    "train_num['Gender'] = train_num['Gender'].apply(lambda x: 1 if x=='Male' else 0)\n",
    "# diff num for diff job roles, 1 = Human Resources\n",
    "train_num['JobRole'] = train_num['JobRole'].apply(\n",
    "    lambda x: 9 if x=='Sales Executive' else 8 if x == 'Research Scientist' else 7 if x == 'Laboratory Technician' \n",
    "    else 6 if x == 'Manufacturing Director' else 5 if x == 'Healthcare Representative' else 4 if x == 'Manager' \n",
    "    else 3 if x == 'Sales Representative' else 2 if x == 'Research Director' else 1)\n",
    "# MaritalStatus = 1 if Divorced\n",
    "train_num['MaritalStatus'] = train_num['MaritalStatus'].apply(\n",
    "    lambda x: 3 if x=='Married' else 2 if x == 'Single' else 1)\n",
    "# Over18 everyone is over 18\n",
    "train_num['Over18'] = train_num['Over18'].apply(lambda x: 1 if x=='Y' else 0)\n",
    "# OverTime = 1 if Yes, 0 if no\n",
    "train_num['OverTime'] = train_num['OverTime'].apply(lambda x: 1 if x=='Yes' else 0) #1 if left org\n",
    "train_num.head()"
   ]
  },
  {
   "cell_type": "code",
   "execution_count": 2,
   "id": "809ace18",
   "metadata": {},
   "outputs": [],
   "source": [
    "# data not ordinal, should not do this step^, assigning more value to different categories, would have to make dummy variables"
   ]
  },
  {
   "cell_type": "code",
   "execution_count": 64,
   "id": "84f9f412",
   "metadata": {},
   "outputs": [
    {
     "data": {
      "text/plain": [
       "Text(0, 0.5, 'MonthlyIncome')"
      ]
     },
     "execution_count": 64,
     "metadata": {},
     "output_type": "execute_result"
    },
    {
     "data": {
      "image/png": "[encoded data removed]",
      "text/plain": [
       "<Figure size 432x288 with 1 Axes>"
      ]
     },
     "metadata": {
      "needs_background": "light"
     },
     "output_type": "display_data"
    }
   ],
   "source": [
    "sns.scatterplot(x = train_num.Attrition, y = train_num.MonthlyIncome, color = 'orange')\n",
    "plt.xlabel('Attrition')\n",
    "plt.ylabel('MonthlyIncome')"
   ]
  },
  {
   "cell_type": "code",
   "execution_count": 55,
   "id": "cb2a6501",
   "metadata": {},
   "outputs": [
    {
     "data": {
      "text/html": [
       "<table class=\"simpletable\">\n",
       "<caption>OLS Regression Results</caption>\n",
       "<tr>\n",
       "  <th>Dep. Variable:</th>        <td>Attrition</td>    <th>  R-squared:         </th> <td>   0.037</td>\n",
       "</tr>\n",
       "<tr>\n",
       "  <th>Model:</th>                   <td>OLS</td>       <th>  Adj. R-squared:    </th> <td>   0.035</td>\n",
       "</tr>\n",
       "<tr>\n",
       "  <th>Method:</th>             <td>Least Squares</td>  <th>  F-statistic:       </th> <td>   18.76</td>\n",
       "</tr>\n",
       "<tr>\n",
       "  <th>Date:</th>             <td>Mon, 27 Feb 2023</td> <th>  Prob (F-statistic):</th> <td>6.09e-12</td>\n",
       "</tr>\n",
       "<tr>\n",
       "  <th>Time:</th>                 <td>18:33:58</td>     <th>  Log-Likelihood:    </th> <td> -587.59</td>\n",
       "</tr>\n",
       "<tr>\n",
       "  <th>No. Observations:</th>      <td>  1470</td>      <th>  AIC:               </th> <td>   1183.</td>\n",
       "</tr>\n",
       "<tr>\n",
       "  <th>Df Residuals:</th>          <td>  1466</td>      <th>  BIC:               </th> <td>   1204.</td>\n",
       "</tr>\n",
       "<tr>\n",
       "  <th>Df Model:</th>              <td>     3</td>      <th>                     </th>     <td> </td>   \n",
       "</tr>\n",
       "<tr>\n",
       "  <th>Covariance Type:</th>      <td>nonrobust</td>    <th>                     </th>     <td> </td>   \n",
       "</tr>\n",
       "</table>\n",
       "<table class=\"simpletable\">\n",
       "<tr>\n",
       "        <td></td>           <th>coef</th>     <th>std err</th>      <th>t</th>      <th>P>|t|</th>  <th>[0.025</th>    <th>0.975]</th>  \n",
       "</tr>\n",
       "<tr>\n",
       "  <th>Intercept</th>     <td>    0.4123</td> <td>    0.044</td> <td>    9.395</td> <td> 0.000</td> <td>    0.326</td> <td>    0.498</td>\n",
       "</tr>\n",
       "<tr>\n",
       "  <th>DailyRate</th>     <td>-4.987e-05</td> <td> 2.34e-05</td> <td>   -2.134</td> <td> 0.033</td> <td>-9.57e-05</td> <td>-4.03e-06</td>\n",
       "</tr>\n",
       "<tr>\n",
       "  <th>Age</th>           <td>   -0.0042</td> <td>    0.001</td> <td>   -3.565</td> <td> 0.000</td> <td>   -0.007</td> <td>   -0.002</td>\n",
       "</tr>\n",
       "<tr>\n",
       "  <th>MonthlyIncome</th> <td>-8.357e-06</td> <td> 2.31e-06</td> <td>   -3.619</td> <td> 0.000</td> <td>-1.29e-05</td> <td>-3.83e-06</td>\n",
       "</tr>\n",
       "</table>\n",
       "<table class=\"simpletable\">\n",
       "<tr>\n",
       "  <th>Omnibus:</th>       <td>415.733</td> <th>  Durbin-Watson:     </th> <td>   1.924</td> \n",
       "</tr>\n",
       "<tr>\n",
       "  <th>Prob(Omnibus):</th> <td> 0.000</td>  <th>  Jarque-Bera (JB):  </th> <td> 842.311</td> \n",
       "</tr>\n",
       "<tr>\n",
       "  <th>Skew:</th>          <td> 1.741</td>  <th>  Prob(JB):          </th> <td>1.24e-183</td>\n",
       "</tr>\n",
       "<tr>\n",
       "  <th>Kurtosis:</th>      <td> 4.274</td>  <th>  Cond. No.          </th> <td>3.75e+04</td> \n",
       "</tr>\n",
       "</table><br/><br/>Notes:<br/>[1] Standard Errors assume that the covariance matrix of the errors is correctly specified.<br/>[2] The condition number is large, 3.75e+04. This might indicate that there are<br/>strong multicollinearity or other numerical problems."
      ],
      "text/plain": [
       "<class 'statsmodels.iolib.summary.Summary'>\n",
       "\"\"\"\n",
       "                            OLS Regression Results                            \n",
       "==============================================================================\n",
       "Dep. Variable:              Attrition   R-squared:                       0.037\n",
       "Model:                            OLS   Adj. R-squared:                  0.035\n",
       "Method:                 Least Squares   F-statistic:                     18.76\n",
       "Date:                Mon, 27 Feb 2023   Prob (F-statistic):           6.09e-12\n",
       "Time:                        18:33:58   Log-Likelihood:                -587.59\n",
       "No. Observations:                1470   AIC:                             1183.\n",
       "Df Residuals:                    1466   BIC:                             1204.\n",
       "Df Model:                           3                                         \n",
       "Covariance Type:            nonrobust                                         \n",
       "=================================================================================\n",
       "                    coef    std err          t      P>|t|      [0.025      0.975]\n",
       "---------------------------------------------------------------------------------\n",
       "Intercept         0.4123      0.044      9.395      0.000       0.326       0.498\n",
       "DailyRate     -4.987e-05   2.34e-05     -2.134      0.033   -9.57e-05   -4.03e-06\n",
       "Age              -0.0042      0.001     -3.565      0.000      -0.007      -0.002\n",
       "MonthlyIncome -8.357e-06   2.31e-06     -3.619      0.000   -1.29e-05   -3.83e-06\n",
       "==============================================================================\n",
       "Omnibus:                      415.733   Durbin-Watson:                   1.924\n",
       "Prob(Omnibus):                  0.000   Jarque-Bera (JB):              842.311\n",
       "Skew:                           1.741   Prob(JB):                    1.24e-183\n",
       "Kurtosis:                       4.274   Cond. No.                     3.75e+04\n",
       "==============================================================================\n",
       "\n",
       "Notes:\n",
       "[1] Standard Errors assume that the covariance matrix of the errors is correctly specified.\n",
       "[2] The condition number is large, 3.75e+04. This might indicate that there are\n",
       "strong multicollinearity or other numerical problems.\n",
       "\"\"\""
      ]
     },
     "execution_count": 55,
     "metadata": {},
     "output_type": "execute_result"
    }
   ],
   "source": [
    "ols_object = smf.ols(formula = 'Attrition~DailyRate + Age + MonthlyIncome', data = train_num)\n",
    "model = ols_object.fit()\n",
    "model.summary()\n"
   ]
  },
  {
   "cell_type": "code",
   "execution_count": 63,
   "id": "2a4a6924",
   "metadata": {},
   "outputs": [
    {
     "data": {
      "text/plain": [
       "booking_status                          1.000000\n",
       "no_of_special_requests                  0.253070\n",
       "repeated_guest                          0.107287\n",
       "required_car_parking_space              0.086185\n",
       "no_of_previous_bookings_not_canceled    0.060179\n",
       "no_of_previous_cancellations            0.033728\n",
       "arrival_month                           0.011233\n",
       "arrival_date                           -0.010629\n",
       "no_of_children                         -0.033078\n",
       "no_of_weekend_nights                   -0.061563\n",
       "no_of_adults                           -0.086920\n",
       "no_of_week_nights                      -0.092996\n",
       "avg_price_per_room                     -0.142569\n",
       "arrival_year                           -0.179529\n",
       "lead_time                              -0.438538\n",
       "dtype: float64"
      ]
     },
     "execution_count": 63,
     "metadata": {},
     "output_type": "execute_result"
    }
   ],
   "source": [
    "train2_num.corrwith(train2_num.booking_status).sort_values(ascending = False)"
   ]
  }
 ],
 "metadata": {
  "kernelspec": {
   "display_name": "Python 3 (ipykernel)",
   "language": "python",
   "name": "python3"
  },
  "language_info": {
   "codemirror_mode": {
    "name": "ipython",
    "version": 3
   },
   "file_extension": ".py",
   "mimetype": "text/x-python",
   "name": "python",
   "nbconvert_exporter": "python",
   "pygments_lexer": "ipython3",
   "version": "3.9.12"
  }
 },
 "nbformat": 4,
 "nbformat_minor": 5
}
